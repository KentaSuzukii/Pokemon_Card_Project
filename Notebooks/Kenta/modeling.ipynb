{
 "cells": [
  {
   "cell_type": "code",
   "execution_count": null,
   "id": "ede00d88",
   "metadata": {},
   "outputs": [],
   "source": [
    "# name as an indepnedt varibale (power transformer encoder) opposite of one encoder//\n",
    "\n",
    "#subtype//\n",
    "\n",
    "# the best 底\n",
    "\n",
    "#price differene between the predicted and actual price//\n",
    "\n",
    "# Logic (scaling to)//\n",
    "\n",
    "# Explanation of the code and 頑張ったこと\n",
    "\n",
    "#---\n",
    "# Tab choices"
   ]
  },
  {
   "cell_type": "markdown",
   "id": "1d1aa2fa",
   "metadata": {},
   "source": [
    "# Inital Preparation"
   ]
  },
  {
   "cell_type": "code",
   "execution_count": null,
   "id": "7e9aa571",
   "metadata": {},
   "outputs": [],
   "source": [
    "#libaraies\n",
    "\n",
    "import kagglehub\n",
    "import pandas as pd\n",
    "import os\n",
    "import matplotlib.pyplot as plt\n",
    "import ast\n",
    "import re\n",
    "from sklearn.model_selection import train_test_split\n",
    "from sklearn.pipeline import Pipeline\n",
    "from sklearn.compose import ColumnTransformer\n",
    "from sklearn.preprocessing import OneHotEncoder, StandardScaler\n",
    "from sklearn.metrics import r2_score\n",
    "from sklearn.linear_model import LinearRegression\n",
    "from sklearn.ensemble import RandomForestRegressor, GradientBoostingRegressor\n",
    "from sklearn.svm import SVR\n",
    "from sklearn.model_selection import GridSearchCV\n",
    "import joblib\n",
    "import requests\n",
    "\n",
    "\n",
    "#20250527\n",
    "from sklearn.linear_model import LinearRegression, Ridge, Lasso, ElasticNet\n",
    "from sklearn.ensemble import RandomForestRegressor, GradientBoostingRegressor, AdaBoostRegressor, HistGradientBoostingRegressor\n",
    "from sklearn.svm import SVR\n",
    "from sklearn.neighbors import KNeighborsRegressor\n",
    "from sklearn.tree import DecisionTreeRegressor\n",
    "from sklearn.dummy import DummyRegressor\n",
    "from xgboost import XGBRegressor\n",
    "from lightgbm import LGBMRegressor\n",
    "from sklearn.preprocessing import OrdinalEncoder\n",
    "import numpy as np\n",
    "\n",
    "#20250528\n",
    "import json\n",
    "import requests\n",
    "from PIL import Image\n",
    "from io import BytesIO\n",
    "import ast\n"
   ]
  },
  {
   "cell_type": "code",
   "execution_count": 105,
   "id": "b309443e",
   "metadata": {},
   "outputs": [
    {
     "name": "stdout",
     "output_type": "stream",
     "text": [
      "Path to dataset files: /Users/suzukikenta/.cache/kagglehub/datasets/adampq/pokemon-tcg-all-cards-1999-2023/versions/1\n"
     ]
    }
   ],
   "source": [
    "# Download latest version\n",
    "path = kagglehub.dataset_download(\"adampq/pokemon-tcg-all-cards-1999-2023\")\n",
    "\n",
    "print(\"Path to dataset files:\", path)"
   ]
  },
  {
   "cell_type": "code",
   "execution_count": 106,
   "id": "38414b5a",
   "metadata": {},
   "outputs": [],
   "source": [
    "df = pd.read_csv(os.path.join(path, \"pokemon-tcg-data-master 1999-2023.csv\"))"
   ]
  },
  {
   "cell_type": "code",
   "execution_count": 107,
   "id": "c4b7317e",
   "metadata": {},
   "outputs": [],
   "source": [
    "# api_key = os.getenv(\"POKEMON_API_KEY\")\n",
    "# url = \"https://api.pokemontcg.io/v2/cards\"\n",
    "\n",
    "# all_cards = []\n",
    "\n",
    "# for i in range(1, 78):\n",
    "#     headers = {\n",
    "#         \"X-Api-Key\": api_key\n",
    "#     }\n",
    "#     params = {\n",
    "#         \"pageSize\": 250,\n",
    "#         \"page\": i\n",
    "#     }\n",
    "\n",
    "#     response = requests.get(url, headers=headers, params=params)\n",
    "#     response.raise_for_status()  # エラーがあれば例外を出す\n",
    "\n",
    "#     data = response.json()\n",
    "#     cards = data.get(\"data\", [])\n",
    "#     all_cards.extend(cards)  # リストにカードを追加\n",
    "\n",
    "# print(f\"Total cards fetched: {len(all_cards)}\")"
   ]
  },
  {
   "cell_type": "code",
   "execution_count": 108,
   "id": "c50548e8",
   "metadata": {},
   "outputs": [],
   "source": [
    "# # Save the json data to a file\n",
    "# with open(\"price_api.json\", \"w\") as f:\n",
    "#     json.dump(all_cards, f, indent=4)"
   ]
  },
  {
   "cell_type": "code",
   "execution_count": 109,
   "id": "f134ff2a",
   "metadata": {},
   "outputs": [],
   "source": [
    "# # Get prices from cardmarket\n",
    "\n",
    "# all_cards_1 = []\n",
    "# skip_count = 0\n",
    "\n",
    "# for i in range(18775):\n",
    "#     card = all_cards[i]\n",
    "#     card_id = card.get(\"id\")\n",
    "\n",
    "#     # cardmarketとpricesの存在を確認\n",
    "#     cardmarket = card.get(\"cardmarket\")\n",
    "#     if not cardmarket:\n",
    "#         skip_count += 1\n",
    "#         continue\n",
    "\n",
    "#     prices = cardmarket.get(\"prices\")\n",
    "#     if not prices:\n",
    "#         skip_count += 1\n",
    "#         continue\n",
    "\n",
    "#     average_price = prices.get(\"averageSellPrice\")\n",
    "#     if average_price is None:\n",
    "#         skip_count += 1\n",
    "#         continue\n",
    "\n",
    "#     # 問題なければ追加\n",
    "#     all_cards_1.append({\n",
    "#         \"id\": card_id,\n",
    "#         \"market_price\": average_price\n",
    "#     })\n",
    "\n",
    "# # ループの外でDataFrame作成\n",
    "# df_price_cardmarket = pd.DataFrame(all_cards_1)\n",
    "\n",
    "# print(f\"Skipped {skip_count} cards due to missing or invalid cardmarket/prices info.\")\n"
   ]
  },
  {
   "cell_type": "code",
   "execution_count": 110,
   "id": "c8d6e5c0",
   "metadata": {},
   "outputs": [],
   "source": [
    "# # Get prices from tcgplayer\n",
    "\n",
    "# all_cards_1 = []\n",
    "# skip_count = 0\n",
    "\n",
    "# for i in range(18775):\n",
    "#     card = all_cards[i]\n",
    "#     card_id = card.get(\"id\")\n",
    "\n",
    "#     # cardmarketとpricesの存在を確認\n",
    "#     tcgplayer = card.get(\"tcgplayer\")\n",
    "#     if not tcgplayer:\n",
    "#         skip_count += 1\n",
    "#         continue\n",
    "\n",
    "#     prices = tcgplayer.get(\"prices\")\n",
    "#     if not prices:\n",
    "#         skip_count += 1\n",
    "#         continue\n",
    "\n",
    "#     average_price = prices[list(prices.keys())[0]].get(\"market\")\n",
    "#     if average_price is None:\n",
    "#         skip_count += 1\n",
    "#         continue\n",
    "\n",
    "#     # 問題なければ追加\n",
    "#     all_cards_1.append({\n",
    "#         \"id\": card_id,\n",
    "#         \"market_price\": average_price\n",
    "#     })\n",
    "\n",
    "# # ループの外でDataFrame作成\n",
    "# df_price_tcgplayer = pd.DataFrame(all_cards_1)\n",
    "\n",
    "# print(f\"Skipped {skip_count} cards due to missing or invalid cardmarket/prices info.\")\n"
   ]
  },
  {
   "cell_type": "code",
   "execution_count": 111,
   "id": "97573552",
   "metadata": {},
   "outputs": [],
   "source": [
    "# # # Convert into csv files\n",
    "# df_price_cardmarket.to_csv(\"prices_cardmarket_20250527.csv\", index=False)\n",
    "# # df_price_tcgplayer.to_csv(\"prices_tcgplayer_20250527.csv\", index=False)"
   ]
  },
  {
   "cell_type": "code",
   "execution_count": 112,
   "id": "dfc13da1",
   "metadata": {},
   "outputs": [],
   "source": [
    "df_price = pd.read_csv(\"prices_cardmarket_20250527.csv\")"
   ]
  },
  {
   "cell_type": "code",
   "execution_count": 113,
   "id": "39586d44",
   "metadata": {},
   "outputs": [],
   "source": [
    "df_price['market_price_log'] = np.log1p(df_price['market_price'])"
   ]
  },
  {
   "cell_type": "code",
   "execution_count": 114,
   "id": "f1fe3d32",
   "metadata": {},
   "outputs": [],
   "source": [
    "# Merge the price data with the main DataFrame\n",
    "df = pd.merge(df, df_price, on='id', how='inner')"
   ]
  },
  {
   "cell_type": "markdown",
   "id": "3094c59b",
   "metadata": {},
   "source": [
    "# Explatory Data Analysis (EDA)"
   ]
  },
  {
   "cell_type": "code",
   "execution_count": 115,
   "id": "9fe686ee",
   "metadata": {},
   "outputs": [
    {
     "data": {
      "text/html": [
       "<div>\n",
       "<style scoped>\n",
       "    .dataframe tbody tr th:only-of-type {\n",
       "        vertical-align: middle;\n",
       "    }\n",
       "\n",
       "    .dataframe tbody tr th {\n",
       "        vertical-align: top;\n",
       "    }\n",
       "\n",
       "    .dataframe thead th {\n",
       "        text-align: right;\n",
       "    }\n",
       "</style>\n",
       "<table border=\"1\" class=\"dataframe\">\n",
       "  <thead>\n",
       "    <tr style=\"text-align: right;\">\n",
       "      <th></th>\n",
       "      <th>id</th>\n",
       "      <th>set</th>\n",
       "      <th>series</th>\n",
       "      <th>publisher</th>\n",
       "      <th>generation</th>\n",
       "      <th>release_date</th>\n",
       "      <th>artist</th>\n",
       "      <th>name</th>\n",
       "      <th>set_num</th>\n",
       "      <th>types</th>\n",
       "      <th>...</th>\n",
       "      <th>rarity</th>\n",
       "      <th>flavorText</th>\n",
       "      <th>nationalPokedexNumbers</th>\n",
       "      <th>legalities</th>\n",
       "      <th>resistances</th>\n",
       "      <th>rules</th>\n",
       "      <th>regulationMark</th>\n",
       "      <th>ancientTrait</th>\n",
       "      <th>market_price</th>\n",
       "      <th>market_price_log</th>\n",
       "    </tr>\n",
       "  </thead>\n",
       "  <tbody>\n",
       "    <tr>\n",
       "      <th>0</th>\n",
       "      <td>base1-1</td>\n",
       "      <td>Base</td>\n",
       "      <td>Base</td>\n",
       "      <td>WOTC</td>\n",
       "      <td>First</td>\n",
       "      <td>1/9/1999</td>\n",
       "      <td>Ken Sugimori</td>\n",
       "      <td>Alakazam</td>\n",
       "      <td>1</td>\n",
       "      <td>['Psychic']</td>\n",
       "      <td>...</td>\n",
       "      <td>Rare Holo</td>\n",
       "      <td>Its brain can outperform a supercomputer. Its ...</td>\n",
       "      <td>[65]</td>\n",
       "      <td>{'unlimited': 'Legal'}</td>\n",
       "      <td>NaN</td>\n",
       "      <td>NaN</td>\n",
       "      <td>NaN</td>\n",
       "      <td>NaN</td>\n",
       "      <td>133.99</td>\n",
       "      <td>4.905201</td>\n",
       "    </tr>\n",
       "    <tr>\n",
       "      <th>1</th>\n",
       "      <td>base1-2</td>\n",
       "      <td>Base</td>\n",
       "      <td>Base</td>\n",
       "      <td>WOTC</td>\n",
       "      <td>First</td>\n",
       "      <td>1/9/1999</td>\n",
       "      <td>Ken Sugimori</td>\n",
       "      <td>Blastoise</td>\n",
       "      <td>2</td>\n",
       "      <td>['Water']</td>\n",
       "      <td>...</td>\n",
       "      <td>Rare Holo</td>\n",
       "      <td>A brutal Pokémon with pressurized water jets o...</td>\n",
       "      <td>[9]</td>\n",
       "      <td>{'unlimited': 'Legal'}</td>\n",
       "      <td>NaN</td>\n",
       "      <td>NaN</td>\n",
       "      <td>NaN</td>\n",
       "      <td>NaN</td>\n",
       "      <td>93.95</td>\n",
       "      <td>4.553350</td>\n",
       "    </tr>\n",
       "    <tr>\n",
       "      <th>2</th>\n",
       "      <td>base1-3</td>\n",
       "      <td>Base</td>\n",
       "      <td>Base</td>\n",
       "      <td>WOTC</td>\n",
       "      <td>First</td>\n",
       "      <td>1/9/1999</td>\n",
       "      <td>Ken Sugimori</td>\n",
       "      <td>Chansey</td>\n",
       "      <td>3</td>\n",
       "      <td>['Colorless']</td>\n",
       "      <td>...</td>\n",
       "      <td>Rare Holo</td>\n",
       "      <td>A rare and elusive Pokémon that is said to bri...</td>\n",
       "      <td>[113]</td>\n",
       "      <td>{'unlimited': 'Legal'}</td>\n",
       "      <td>[{'type': 'Psychic', 'value': '-30'}]</td>\n",
       "      <td>NaN</td>\n",
       "      <td>NaN</td>\n",
       "      <td>NaN</td>\n",
       "      <td>23.63</td>\n",
       "      <td>3.203965</td>\n",
       "    </tr>\n",
       "    <tr>\n",
       "      <th>3</th>\n",
       "      <td>base1-4</td>\n",
       "      <td>Base</td>\n",
       "      <td>Base</td>\n",
       "      <td>WOTC</td>\n",
       "      <td>First</td>\n",
       "      <td>1/9/1999</td>\n",
       "      <td>Mitsuhiro Arita</td>\n",
       "      <td>Charizard</td>\n",
       "      <td>4</td>\n",
       "      <td>['Fire']</td>\n",
       "      <td>...</td>\n",
       "      <td>Rare Holo</td>\n",
       "      <td>Spits fire that is hot enough to melt boulders...</td>\n",
       "      <td>[6]</td>\n",
       "      <td>{'unlimited': 'Legal'}</td>\n",
       "      <td>[{'type': 'Fighting', 'value': '-30'}]</td>\n",
       "      <td>NaN</td>\n",
       "      <td>NaN</td>\n",
       "      <td>NaN</td>\n",
       "      <td>5527.50</td>\n",
       "      <td>8.617672</td>\n",
       "    </tr>\n",
       "    <tr>\n",
       "      <th>4</th>\n",
       "      <td>base1-5</td>\n",
       "      <td>Base</td>\n",
       "      <td>Base</td>\n",
       "      <td>WOTC</td>\n",
       "      <td>First</td>\n",
       "      <td>1/9/1999</td>\n",
       "      <td>Ken Sugimori</td>\n",
       "      <td>Clefairy</td>\n",
       "      <td>5</td>\n",
       "      <td>['Colorless']</td>\n",
       "      <td>...</td>\n",
       "      <td>Rare Holo</td>\n",
       "      <td>Its magical and cute appeal has many admirers....</td>\n",
       "      <td>[35]</td>\n",
       "      <td>{'unlimited': 'Legal'}</td>\n",
       "      <td>[{'type': 'Psychic', 'value': '-30'}]</td>\n",
       "      <td>NaN</td>\n",
       "      <td>NaN</td>\n",
       "      <td>NaN</td>\n",
       "      <td>23.18</td>\n",
       "      <td>3.185526</td>\n",
       "    </tr>\n",
       "  </tbody>\n",
       "</table>\n",
       "<p>5 rows × 31 columns</p>\n",
       "</div>"
      ],
      "text/plain": [
       "        id   set series publisher generation release_date           artist  \\\n",
       "0  base1-1  Base   Base      WOTC      First     1/9/1999     Ken Sugimori   \n",
       "1  base1-2  Base   Base      WOTC      First     1/9/1999     Ken Sugimori   \n",
       "2  base1-3  Base   Base      WOTC      First     1/9/1999     Ken Sugimori   \n",
       "3  base1-4  Base   Base      WOTC      First     1/9/1999  Mitsuhiro Arita   \n",
       "4  base1-5  Base   Base      WOTC      First     1/9/1999     Ken Sugimori   \n",
       "\n",
       "        name set_num          types  ...     rarity  \\\n",
       "0   Alakazam       1    ['Psychic']  ...  Rare Holo   \n",
       "1  Blastoise       2      ['Water']  ...  Rare Holo   \n",
       "2    Chansey       3  ['Colorless']  ...  Rare Holo   \n",
       "3  Charizard       4       ['Fire']  ...  Rare Holo   \n",
       "4   Clefairy       5  ['Colorless']  ...  Rare Holo   \n",
       "\n",
       "                                          flavorText nationalPokedexNumbers  \\\n",
       "0  Its brain can outperform a supercomputer. Its ...                   [65]   \n",
       "1  A brutal Pokémon with pressurized water jets o...                    [9]   \n",
       "2  A rare and elusive Pokémon that is said to bri...                  [113]   \n",
       "3  Spits fire that is hot enough to melt boulders...                    [6]   \n",
       "4  Its magical and cute appeal has many admirers....                   [35]   \n",
       "\n",
       "               legalities                             resistances rules  \\\n",
       "0  {'unlimited': 'Legal'}                                     NaN   NaN   \n",
       "1  {'unlimited': 'Legal'}                                     NaN   NaN   \n",
       "2  {'unlimited': 'Legal'}   [{'type': 'Psychic', 'value': '-30'}]   NaN   \n",
       "3  {'unlimited': 'Legal'}  [{'type': 'Fighting', 'value': '-30'}]   NaN   \n",
       "4  {'unlimited': 'Legal'}   [{'type': 'Psychic', 'value': '-30'}]   NaN   \n",
       "\n",
       "  regulationMark ancientTrait market_price market_price_log  \n",
       "0            NaN          NaN       133.99         4.905201  \n",
       "1            NaN          NaN        93.95         4.553350  \n",
       "2            NaN          NaN        23.63         3.203965  \n",
       "3            NaN          NaN      5527.50         8.617672  \n",
       "4            NaN          NaN        23.18         3.185526  \n",
       "\n",
       "[5 rows x 31 columns]"
      ]
     },
     "execution_count": 115,
     "metadata": {},
     "output_type": "execute_result"
    }
   ],
   "source": [
    "# The first 5 rows\n",
    "df.head()"
   ]
  },
  {
   "cell_type": "code",
   "execution_count": 116,
   "id": "df9d8efb",
   "metadata": {},
   "outputs": [
    {
     "data": {
      "text/html": [
       "<div>\n",
       "<style scoped>\n",
       "    .dataframe tbody tr th:only-of-type {\n",
       "        vertical-align: middle;\n",
       "    }\n",
       "\n",
       "    .dataframe tbody tr th {\n",
       "        vertical-align: top;\n",
       "    }\n",
       "\n",
       "    .dataframe thead th {\n",
       "        text-align: right;\n",
       "    }\n",
       "</style>\n",
       "<table border=\"1\" class=\"dataframe\">\n",
       "  <thead>\n",
       "    <tr style=\"text-align: right;\">\n",
       "      <th></th>\n",
       "      <th>id</th>\n",
       "      <th>set</th>\n",
       "      <th>series</th>\n",
       "      <th>publisher</th>\n",
       "      <th>generation</th>\n",
       "      <th>release_date</th>\n",
       "      <th>artist</th>\n",
       "      <th>name</th>\n",
       "      <th>set_num</th>\n",
       "      <th>types</th>\n",
       "      <th>...</th>\n",
       "      <th>rarity</th>\n",
       "      <th>flavorText</th>\n",
       "      <th>nationalPokedexNumbers</th>\n",
       "      <th>legalities</th>\n",
       "      <th>resistances</th>\n",
       "      <th>rules</th>\n",
       "      <th>regulationMark</th>\n",
       "      <th>ancientTrait</th>\n",
       "      <th>market_price</th>\n",
       "      <th>market_price_log</th>\n",
       "    </tr>\n",
       "  </thead>\n",
       "  <tbody>\n",
       "    <tr>\n",
       "      <th>16941</th>\n",
       "      <td>sv4-262</td>\n",
       "      <td>Paradox Rift</td>\n",
       "      <td>Scarlet &amp; Violet</td>\n",
       "      <td>TPCI</td>\n",
       "      <td>Ninth</td>\n",
       "      <td>11/3/2023</td>\n",
       "      <td>takuyoa</td>\n",
       "      <td>Roaring Moon ex</td>\n",
       "      <td>262</td>\n",
       "      <td>['Darkness']</td>\n",
       "      <td>...</td>\n",
       "      <td>Hyper Rare</td>\n",
       "      <td>NaN</td>\n",
       "      <td>NaN</td>\n",
       "      <td>{'unlimited': 'Legal', 'standard': 'Legal', 'e...</td>\n",
       "      <td>NaN</td>\n",
       "      <td>['Pokémon ex rule: When your Pokémon ex is Kno...</td>\n",
       "      <td>G</td>\n",
       "      <td>NaN</td>\n",
       "      <td>6.03</td>\n",
       "      <td>1.950187</td>\n",
       "    </tr>\n",
       "    <tr>\n",
       "      <th>16942</th>\n",
       "      <td>sv4-263</td>\n",
       "      <td>Paradox Rift</td>\n",
       "      <td>Scarlet &amp; Violet</td>\n",
       "      <td>TPCI</td>\n",
       "      <td>Ninth</td>\n",
       "      <td>11/3/2023</td>\n",
       "      <td>Oswaldo KATO</td>\n",
       "      <td>Beach Court</td>\n",
       "      <td>263</td>\n",
       "      <td>NaN</td>\n",
       "      <td>...</td>\n",
       "      <td>Hyper Rare</td>\n",
       "      <td>NaN</td>\n",
       "      <td>NaN</td>\n",
       "      <td>{'unlimited': 'Legal', 'standard': 'Legal', 'e...</td>\n",
       "      <td>NaN</td>\n",
       "      <td>[\"The Retreat Cost of each Basic Pokémon in pl...</td>\n",
       "      <td>G</td>\n",
       "      <td>NaN</td>\n",
       "      <td>2.84</td>\n",
       "      <td>1.345472</td>\n",
       "    </tr>\n",
       "    <tr>\n",
       "      <th>16943</th>\n",
       "      <td>sv4-264</td>\n",
       "      <td>Paradox Rift</td>\n",
       "      <td>Scarlet &amp; Violet</td>\n",
       "      <td>TPCI</td>\n",
       "      <td>Ninth</td>\n",
       "      <td>11/3/2023</td>\n",
       "      <td>Toyste Beach</td>\n",
       "      <td>Counter Catcher</td>\n",
       "      <td>264</td>\n",
       "      <td>NaN</td>\n",
       "      <td>...</td>\n",
       "      <td>Hyper Rare</td>\n",
       "      <td>NaN</td>\n",
       "      <td>NaN</td>\n",
       "      <td>{'unlimited': 'Legal', 'standard': 'Legal', 'e...</td>\n",
       "      <td>NaN</td>\n",
       "      <td>[\"You can use this card only if you have more ...</td>\n",
       "      <td>G</td>\n",
       "      <td>NaN</td>\n",
       "      <td>7.39</td>\n",
       "      <td>2.127041</td>\n",
       "    </tr>\n",
       "    <tr>\n",
       "      <th>16944</th>\n",
       "      <td>sv4-265</td>\n",
       "      <td>Paradox Rift</td>\n",
       "      <td>Scarlet &amp; Violet</td>\n",
       "      <td>TPCI</td>\n",
       "      <td>Ninth</td>\n",
       "      <td>11/3/2023</td>\n",
       "      <td>Toyste Beach</td>\n",
       "      <td>Luxurious Cape</td>\n",
       "      <td>265</td>\n",
       "      <td>NaN</td>\n",
       "      <td>...</td>\n",
       "      <td>Hyper Rare</td>\n",
       "      <td>NaN</td>\n",
       "      <td>NaN</td>\n",
       "      <td>{'unlimited': 'Legal', 'standard': 'Legal', 'e...</td>\n",
       "      <td>NaN</td>\n",
       "      <td>[\"If the Pokémon this card is attached to does...</td>\n",
       "      <td>G</td>\n",
       "      <td>NaN</td>\n",
       "      <td>3.79</td>\n",
       "      <td>1.566530</td>\n",
       "    </tr>\n",
       "    <tr>\n",
       "      <th>16945</th>\n",
       "      <td>sv4-266</td>\n",
       "      <td>Paradox Rift</td>\n",
       "      <td>Scarlet &amp; Violet</td>\n",
       "      <td>TPCI</td>\n",
       "      <td>Ninth</td>\n",
       "      <td>11/3/2023</td>\n",
       "      <td>NaN</td>\n",
       "      <td>Reversal Energy</td>\n",
       "      <td>266</td>\n",
       "      <td>NaN</td>\n",
       "      <td>...</td>\n",
       "      <td>Hyper Rare</td>\n",
       "      <td>NaN</td>\n",
       "      <td>NaN</td>\n",
       "      <td>{'unlimited': 'Legal', 'standard': 'Legal', 'e...</td>\n",
       "      <td>NaN</td>\n",
       "      <td>[\"As long as this card is attached to a Pokémo...</td>\n",
       "      <td>G</td>\n",
       "      <td>NaN</td>\n",
       "      <td>3.96</td>\n",
       "      <td>1.601406</td>\n",
       "    </tr>\n",
       "  </tbody>\n",
       "</table>\n",
       "<p>5 rows × 31 columns</p>\n",
       "</div>"
      ],
      "text/plain": [
       "            id           set            series publisher generation  \\\n",
       "16941  sv4-262  Paradox Rift  Scarlet & Violet      TPCI      Ninth   \n",
       "16942  sv4-263  Paradox Rift  Scarlet & Violet      TPCI      Ninth   \n",
       "16943  sv4-264  Paradox Rift  Scarlet & Violet      TPCI      Ninth   \n",
       "16944  sv4-265  Paradox Rift  Scarlet & Violet      TPCI      Ninth   \n",
       "16945  sv4-266  Paradox Rift  Scarlet & Violet      TPCI      Ninth   \n",
       "\n",
       "      release_date        artist             name set_num         types  ...  \\\n",
       "16941    11/3/2023       takuyoa  Roaring Moon ex     262  ['Darkness']  ...   \n",
       "16942    11/3/2023  Oswaldo KATO      Beach Court     263           NaN  ...   \n",
       "16943    11/3/2023  Toyste Beach  Counter Catcher     264           NaN  ...   \n",
       "16944    11/3/2023  Toyste Beach   Luxurious Cape     265           NaN  ...   \n",
       "16945    11/3/2023           NaN  Reversal Energy     266           NaN  ...   \n",
       "\n",
       "           rarity flavorText nationalPokedexNumbers  \\\n",
       "16941  Hyper Rare        NaN                    NaN   \n",
       "16942  Hyper Rare        NaN                    NaN   \n",
       "16943  Hyper Rare        NaN                    NaN   \n",
       "16944  Hyper Rare        NaN                    NaN   \n",
       "16945  Hyper Rare        NaN                    NaN   \n",
       "\n",
       "                                              legalities resistances  \\\n",
       "16941  {'unlimited': 'Legal', 'standard': 'Legal', 'e...         NaN   \n",
       "16942  {'unlimited': 'Legal', 'standard': 'Legal', 'e...         NaN   \n",
       "16943  {'unlimited': 'Legal', 'standard': 'Legal', 'e...         NaN   \n",
       "16944  {'unlimited': 'Legal', 'standard': 'Legal', 'e...         NaN   \n",
       "16945  {'unlimited': 'Legal', 'standard': 'Legal', 'e...         NaN   \n",
       "\n",
       "                                                   rules regulationMark  \\\n",
       "16941  ['Pokémon ex rule: When your Pokémon ex is Kno...              G   \n",
       "16942  [\"The Retreat Cost of each Basic Pokémon in pl...              G   \n",
       "16943  [\"You can use this card only if you have more ...              G   \n",
       "16944  [\"If the Pokémon this card is attached to does...              G   \n",
       "16945  [\"As long as this card is attached to a Pokémo...              G   \n",
       "\n",
       "      ancientTrait market_price market_price_log  \n",
       "16941          NaN         6.03         1.950187  \n",
       "16942          NaN         2.84         1.345472  \n",
       "16943          NaN         7.39         2.127041  \n",
       "16944          NaN         3.79         1.566530  \n",
       "16945          NaN         3.96         1.601406  \n",
       "\n",
       "[5 rows x 31 columns]"
      ]
     },
     "execution_count": 116,
     "metadata": {},
     "output_type": "execute_result"
    }
   ],
   "source": [
    "# The last 5 rows\n",
    "df.tail()"
   ]
  },
  {
   "cell_type": "code",
   "execution_count": 117,
   "id": "a19c3747",
   "metadata": {},
   "outputs": [
    {
     "name": "stdout",
     "output_type": "stream",
     "text": [
      "<class 'pandas.core.frame.DataFrame'>\n",
      "RangeIndex: 16946 entries, 0 to 16945\n",
      "Data columns (total 31 columns):\n",
      " #   Column                  Non-Null Count  Dtype  \n",
      "---  ------                  --------------  -----  \n",
      " 0   id                      16946 non-null  object \n",
      " 1   set                     16946 non-null  object \n",
      " 2   series                  16946 non-null  object \n",
      " 3   publisher               16946 non-null  object \n",
      " 4   generation              16946 non-null  object \n",
      " 5   release_date            16946 non-null  object \n",
      " 6   artist                  16748 non-null  object \n",
      " 7   name                    16946 non-null  object \n",
      " 8   set_num                 16946 non-null  object \n",
      " 9   types                   14318 non-null  object \n",
      " 10  supertype               16946 non-null  object \n",
      " 11  subtypes                16774 non-null  object \n",
      " 12  level                   2342 non-null   object \n",
      " 13  hp                      14354 non-null  float64\n",
      " 14  evolvesFrom             6110 non-null   object \n",
      " 15  evolvesTo               5701 non-null   object \n",
      " 16  abilities               3376 non-null   object \n",
      " 17  attacks                 14329 non-null  object \n",
      " 18  weaknesses              13920 non-null  object \n",
      " 19  retreatCost             13506 non-null  object \n",
      " 20  convertedRetreatCost    13506 non-null  float64\n",
      " 21  rarity                  16741 non-null  object \n",
      " 22  flavorText              9615 non-null   object \n",
      " 23  nationalPokedexNumbers  14216 non-null  object \n",
      " 24  legalities              16946 non-null  object \n",
      " 25  resistances             4219 non-null   object \n",
      " 26  rules                   5146 non-null   object \n",
      " 27  regulationMark          4932 non-null   object \n",
      " 28  ancientTrait            58 non-null     object \n",
      " 29  market_price            16946 non-null  float64\n",
      " 30  market_price_log        16946 non-null  float64\n",
      "dtypes: float64(4), object(27)\n",
      "memory usage: 4.0+ MB\n"
     ]
    },
    {
     "data": {
      "text/plain": [
       "id                            0\n",
       "set                           0\n",
       "series                        0\n",
       "publisher                     0\n",
       "generation                    0\n",
       "release_date                  0\n",
       "artist                      198\n",
       "name                          0\n",
       "set_num                       0\n",
       "types                      2628\n",
       "supertype                     0\n",
       "subtypes                    172\n",
       "level                     14604\n",
       "hp                         2592\n",
       "evolvesFrom               10836\n",
       "evolvesTo                 11245\n",
       "abilities                 13570\n",
       "attacks                    2617\n",
       "weaknesses                 3026\n",
       "retreatCost                3440\n",
       "convertedRetreatCost       3440\n",
       "rarity                      205\n",
       "flavorText                 7331\n",
       "nationalPokedexNumbers     2730\n",
       "legalities                    0\n",
       "resistances               12727\n",
       "rules                     11800\n",
       "regulationMark            12014\n",
       "ancientTrait              16888\n",
       "market_price                  0\n",
       "market_price_log              0\n",
       "dtype: int64"
      ]
     },
     "execution_count": 117,
     "metadata": {},
     "output_type": "execute_result"
    }
   ],
   "source": [
    "# Basics\n",
    "df.info()\n",
    "df.describe()\n",
    "df.isna().sum()"
   ]
  },
  {
   "cell_type": "markdown",
   "id": "aa495a06",
   "metadata": {},
   "source": [
    "## Inital Elimination"
   ]
  },
  {
   "cell_type": "code",
   "execution_count": 118,
   "id": "34632ec3",
   "metadata": {},
   "outputs": [],
   "source": [
    "# Drop Non-Pokoemon Card\n",
    "df = df[df[\"supertype\"] == \"Pokémon\"]"
   ]
  },
  {
   "cell_type": "code",
   "execution_count": 119,
   "id": "437d1612",
   "metadata": {},
   "outputs": [],
   "source": [
    "# Drop Columns with Too Many NaNs\n",
    "def drop_columns_with_too_many_nans(df, threshold=0.80):\n",
    "    # Calculate the threshold for NaN values\n",
    "    nan_threshold = len(df) * threshold\n",
    "    # Drop columns with NaN values above the threshold\n",
    "    df_cleaned = df.dropna(thresh=nan_threshold, axis=1)\n",
    "    return df_cleaned\n",
    "df = drop_columns_with_too_many_nans(df)"
   ]
  },
  {
   "cell_type": "code",
   "execution_count": 120,
   "id": "25e46706",
   "metadata": {},
   "outputs": [],
   "source": [
    "# drop rows with 0 in market_price\n",
    "df = df[(df[\"market_price\"].notna()) & (df[\"market_price\"] != 0)]"
   ]
  },
  {
   "cell_type": "code",
   "execution_count": 121,
   "id": "955eead8",
   "metadata": {},
   "outputs": [
    {
     "name": "stdout",
     "output_type": "stream",
     "text": [
      "Number of rows: 14268\n"
     ]
    }
   ],
   "source": [
    "# Rows\n",
    "print(\"Number of rows:\", len(df))"
   ]
  },
  {
   "cell_type": "markdown",
   "id": "f8ce07ac",
   "metadata": {},
   "source": [
    "# Feature Selection(Only columns you absolutely cannot use)"
   ]
  },
  {
   "cell_type": "code",
   "execution_count": 122,
   "id": "a40f0b72",
   "metadata": {},
   "outputs": [
    {
     "data": {
      "text/plain": [
       "Index(['id', 'set', 'series', 'publisher', 'generation', 'release_date',\n",
       "       'artist', 'name', 'set_num', 'types', 'supertype', 'subtypes', 'hp',\n",
       "       'attacks', 'weaknesses', 'retreatCost', 'convertedRetreatCost',\n",
       "       'rarity', 'nationalPokedexNumbers', 'legalities', 'market_price',\n",
       "       'market_price_log'],\n",
       "      dtype='object')"
      ]
     },
     "execution_count": 122,
     "metadata": {},
     "output_type": "execute_result"
    }
   ],
   "source": [
    "# Valid Columns\n",
    "df.columns"
   ]
  },
  {
   "cell_type": "markdown",
   "id": "ff309adf",
   "metadata": {},
   "source": [
    "## Set"
   ]
  },
  {
   "cell_type": "code",
   "execution_count": 123,
   "id": "1ffb3894",
   "metadata": {},
   "outputs": [
    {
     "name": "stdout",
     "output_type": "stream",
     "text": [
      "Number of unique sets: 144\n"
     ]
    }
   ],
   "source": [
    "# how many sets\n",
    "print(\"Number of unique sets:\", df['set'].nunique())"
   ]
  },
  {
   "cell_type": "code",
   "execution_count": 124,
   "id": "413d4332",
   "metadata": {},
   "outputs": [
    {
     "name": "stdout",
     "output_type": "stream",
     "text": [
      "set\n",
      "SWSH Black Star Promos        289\n",
      "Fusion Strike                 245\n",
      "SM Black Star Promos          245\n",
      "Paldea Evolved                238\n",
      "Cosmic Eclipse                228\n",
      "                             ... \n",
      "McDonald's Collection 2019     12\n",
      "McDonald's Collection 2012     12\n",
      "POP Series 5                   11\n",
      "Best of Game                    7\n",
      "Pokémon Futsal Collection       5\n",
      "Name: count, Length: 144, dtype: int64\n"
     ]
    }
   ],
   "source": [
    "# Display full value counts\n",
    "print(df[\"set\"].value_counts())"
   ]
  },
  {
   "cell_type": "markdown",
   "id": "b7d1917c",
   "metadata": {},
   "source": [
    "❌ Too many rows"
   ]
  },
  {
   "cell_type": "markdown",
   "id": "b5940c7c",
   "metadata": {},
   "source": [
    "## Series"
   ]
  },
  {
   "cell_type": "code",
   "execution_count": 125,
   "id": "482a43d7",
   "metadata": {},
   "outputs": [
    {
     "name": "stdout",
     "output_type": "stream",
     "text": [
      "Number of unique sets: 16\n"
     ]
    }
   ],
   "source": [
    "# how many series\n",
    "print(\"Number of unique sets:\", df['series'].nunique())"
   ]
  },
  {
   "cell_type": "code",
   "execution_count": 126,
   "id": "7bda2cba",
   "metadata": {},
   "outputs": [
    {
     "name": "stdout",
     "output_type": "stream",
     "text": [
      "series\n",
      "Sword & Shield            3014\n",
      "Sun & Moon                2440\n",
      "XY                        1577\n",
      "EX                        1453\n",
      "Black & White             1278\n",
      "Scarlet & Violet          1117\n",
      "Diamond & Pearl            746\n",
      "Platinum                   458\n",
      "HeartGold & SoulSilver     442\n",
      "E-Card                     440\n",
      "Base                       406\n",
      "Neo                        311\n",
      "Other                      233\n",
      "Gym                        186\n",
      "POP                        135\n",
      "NP                          32\n",
      "Name: count, dtype: int64\n"
     ]
    }
   ],
   "source": [
    "# All the series\n",
    "print(df[\"series\"].value_counts())"
   ]
  },
  {
   "cell_type": "markdown",
   "id": "ebcd9774",
   "metadata": {},
   "source": [
    "⭕️ Interesting"
   ]
  },
  {
   "cell_type": "markdown",
   "id": "83a3e02d",
   "metadata": {},
   "source": [
    "## Publisher"
   ]
  },
  {
   "cell_type": "code",
   "execution_count": 127,
   "id": "4609cb8b",
   "metadata": {},
   "outputs": [
    {
     "name": "stdout",
     "output_type": "stream",
     "text": [
      "Number of unique sets: 2\n"
     ]
    }
   ],
   "source": [
    "# how many publishers\n",
    "print(\"Number of unique sets:\", df['publisher'].nunique())"
   ]
  },
  {
   "cell_type": "markdown",
   "id": "36c9d324",
   "metadata": {},
   "source": [
    "❌ It is very unlikey that a publisher has influence on the price"
   ]
  },
  {
   "cell_type": "markdown",
   "id": "69ffdb61",
   "metadata": {},
   "source": [
    "## Generations"
   ]
  },
  {
   "cell_type": "code",
   "execution_count": 128,
   "id": "1cb86b23",
   "metadata": {},
   "outputs": [
    {
     "name": "stdout",
     "output_type": "stream",
     "text": [
      "Number of unique generations: 11\n"
     ]
    }
   ],
   "source": [
    "## how many generations\n",
    "print(\"Number of unique generations:\", df['generation'].nunique())"
   ]
  },
  {
   "cell_type": "code",
   "execution_count": 129,
   "id": "bc6823d7",
   "metadata": {},
   "outputs": [
    {
     "name": "stdout",
     "output_type": "stream",
     "text": [
      "generation\n",
      "Eighth     3014\n",
      "Seventh    2440\n",
      "Third      1555\n",
      "Fifth      1471\n",
      "Sixth      1384\n",
      "Fourth     1191\n",
      "Ninth      1117\n",
      "Second      875\n",
      "First       592\n",
      "Fourth      520\n",
      "Other       109\n",
      "Name: count, dtype: int64\n"
     ]
    }
   ],
   "source": [
    "# Display full value counts\n",
    "print(df[\"generation\"].value_counts())"
   ]
  },
  {
   "cell_type": "markdown",
   "id": "9085ab26",
   "metadata": {},
   "source": [
    "⭕️ LGTM "
   ]
  },
  {
   "cell_type": "markdown",
   "id": "a5ded440",
   "metadata": {},
   "source": [
    "## Relase Data"
   ]
  },
  {
   "cell_type": "markdown",
   "id": "7934fd00",
   "metadata": {},
   "source": [
    "❌ It is useless as we have generations and series"
   ]
  },
  {
   "cell_type": "markdown",
   "id": "6303d298",
   "metadata": {},
   "source": [
    "## Artists"
   ]
  },
  {
   "cell_type": "code",
   "execution_count": 130,
   "id": "8d6e1504",
   "metadata": {},
   "outputs": [
    {
     "name": "stdout",
     "output_type": "stream",
     "text": [
      "Number of unique sets: 285\n"
     ]
    }
   ],
   "source": [
    "# how many artists\n",
    "print(\"Number of unique sets:\", df['artist'].nunique())"
   ]
  },
  {
   "cell_type": "markdown",
   "id": "fd0533d1",
   "metadata": {},
   "source": [
    "❌ Too many categories"
   ]
  },
  {
   "cell_type": "markdown",
   "id": "9c75725d",
   "metadata": {},
   "source": [
    "## Name"
   ]
  },
  {
   "cell_type": "code",
   "execution_count": 131,
   "id": "8abb59b6",
   "metadata": {},
   "outputs": [
    {
     "name": "stdout",
     "output_type": "stream",
     "text": [
      "Number of unique generations: 2667\n"
     ]
    }
   ],
   "source": [
    "## how many unique names\n",
    "print(\"Number of unique generations:\", df['name'].nunique())"
   ]
  },
  {
   "cell_type": "code",
   "execution_count": 132,
   "id": "322de6b3",
   "metadata": {},
   "outputs": [],
   "source": [
    "name_counts = df['name'].value_counts()\n",
    "df['name_counts'] = df['name'].map(name_counts)"
   ]
  },
  {
   "cell_type": "markdown",
   "id": "6d1e4e45",
   "metadata": {},
   "source": [
    "⭕️ ones with high frequencies are more popular?"
   ]
  },
  {
   "cell_type": "markdown",
   "id": "93f0f466",
   "metadata": {},
   "source": [
    "## Types"
   ]
  },
  {
   "cell_type": "code",
   "execution_count": 133,
   "id": "8d2fbddb",
   "metadata": {},
   "outputs": [
    {
     "name": "stdout",
     "output_type": "stream",
     "text": [
      "Number of unique generations: 36\n"
     ]
    }
   ],
   "source": [
    "## how many generations\n",
    "print(\"Number of unique generations:\", df['types'].nunique())"
   ]
  },
  {
   "cell_type": "code",
   "execution_count": 134,
   "id": "d6f37ebe",
   "metadata": {},
   "outputs": [
    {
     "name": "stdout",
     "output_type": "stream",
     "text": [
      "types\n",
      "['Water']                    2062\n",
      "['Grass']                    1994\n",
      "['Psychic']                  1910\n",
      "['Colorless']                1824\n",
      "['Fighting']                 1544\n",
      "['Fire']                     1257\n",
      "['Lightning']                1235\n",
      "['Darkness']                  935\n",
      "['Metal']                     745\n",
      "['Dragon']                    431\n",
      "['Fairy']                     229\n",
      "['Grass', 'Darkness']          10\n",
      "['Lightning', 'Metal']          9\n",
      "['Fighting', 'Darkness']        8\n",
      "['Darkness', 'Metal']           7\n",
      "['Water', 'Metal']              7\n",
      "['Water', 'Darkness']           7\n",
      "['Fire', 'Metal']               6\n",
      "['Psychic', 'Metal']            5\n",
      "['Fire', 'Darkness']            5\n",
      "['Lightning', 'Darkness']       5\n",
      "['Fighting', 'Metal']           4\n",
      "['Fire', 'Water']               4\n",
      "['Psychic', 'Darkness']         3\n",
      "['Grass', 'Metal']              3\n",
      "['Darkness', 'Psychic']         2\n",
      "['Metal', 'Fighting']           2\n",
      "['Water', 'Fire']               2\n",
      "['Colorless', 'Psychic']        2\n",
      "['Water', 'Fighting']           2\n",
      "['Lightning', 'Water']          2\n",
      "['Fire', 'Lightning']           2\n",
      "['Fairy', 'Psychic']            2\n",
      "['Fire', 'Grass']               1\n",
      "['Lightning', 'Grass']          1\n",
      "['Fairy', 'Water']              1\n",
      "Name: count, dtype: int64\n"
     ]
    }
   ],
   "source": [
    "# Show all rows when printing\n",
    "\n",
    "\n",
    "\n",
    "# Display full value counts\n",
    "print(df[\"types\"].value_counts())"
   ]
  },
  {
   "cell_type": "code",
   "execution_count": 135,
   "id": "b746a126",
   "metadata": {},
   "outputs": [],
   "source": [
    "df[\"single_type\"] = df[\"types\"].apply(lambda x: ast.literal_eval(x)[0] if isinstance(x, str) and x else None)"
   ]
  },
  {
   "cell_type": "code",
   "execution_count": 136,
   "id": "7ec3390e",
   "metadata": {},
   "outputs": [
    {
     "name": "stdout",
     "output_type": "stream",
     "text": [
      "single_type\n",
      "Water        2080\n",
      "Grass        2007\n",
      "Psychic      1918\n",
      "Colorless    1826\n",
      "Fighting     1556\n",
      "Fire         1275\n",
      "Lightning    1252\n",
      "Darkness      944\n",
      "Metal         747\n",
      "Dragon        431\n",
      "Fairy         232\n",
      "Name: count, dtype: int64\n"
     ]
    }
   ],
   "source": [
    "print(df[\"single_type\"].value_counts())"
   ]
  },
  {
   "cell_type": "markdown",
   "id": "e15b24dd",
   "metadata": {},
   "source": [
    "⭕️if I eliminate pokeomon  with two types, looks good"
   ]
  },
  {
   "cell_type": "markdown",
   "id": "39872f71",
   "metadata": {},
   "source": [
    "## subtypes"
   ]
  },
  {
   "cell_type": "code",
   "execution_count": 137,
   "id": "cb244bb6",
   "metadata": {},
   "outputs": [
    {
     "name": "stdout",
     "output_type": "stream",
     "text": [
      "Number of unique generations: 67\n"
     ]
    }
   ],
   "source": [
    "## how many types\n",
    "print(\"Number of unique generations:\", df['subtypes'].nunique())"
   ]
  },
  {
   "cell_type": "code",
   "execution_count": 138,
   "id": "d4ccb76d",
   "metadata": {},
   "outputs": [
    {
     "name": "stdout",
     "output_type": "stream",
     "text": [
      "subtypes\n",
      "['Basic']                         6413\n",
      "['Stage 1']                       3798\n",
      "['Stage 2']                       1166\n",
      "['Basic', 'V']                     517\n",
      "['Basic', 'EX']                    385\n",
      "['Basic', 'GX']                    174\n",
      "['VMAX']                           152\n",
      "['Stage 1', 'GX']                  148\n",
      "['Basic', 'TAG TEAM', 'GX']        111\n",
      "['Stage 2', 'GX']                   99\n",
      "['VSTAR']                           94\n",
      "['MEGA', 'EX']                      90\n",
      "['Basic', 'SP']                     81\n",
      "['Basic', 'ex']                     61\n",
      "['Stage 1', 'ex']                   51\n",
      "['Basic', 'GX', 'Ultra Beast']      50\n",
      "['Stage 2', 'ex']                   49\n",
      "['Stage 2', 'EX']                   43\n",
      "['Level-Up']                        42\n",
      "['Basic', 'V', 'Rapid Strike']      37\n",
      "Name: count, dtype: int64\n"
     ]
    }
   ],
   "source": [
    "print(df[\"subtypes\"].value_counts().head(20))"
   ]
  },
  {
   "cell_type": "code",
   "execution_count": 139,
   "id": "7fe97e14",
   "metadata": {},
   "outputs": [],
   "source": [
    "# def classify_subtypes(subtypes):\n",
    "#     # Normalize to uppercase and strip spaces\n",
    "#     normalized = set(s.strip().upper() for s in subtypes)\n",
    "\n",
    "#     group1 = {'EX'}  # just uppercase 'EX', drop lowercase 'ex' assuming uniformity\n",
    "#     group2 = {'GX'}\n",
    "#     group3 = {'BREAK', 'LV.X', 'V', 'VSTAR'}\n",
    "#     group4 = {'TAG TEAM', 'VMAX', 'LEGEND', '★', 'STAR'}\n",
    "\n",
    "#     if normalized & group4:\n",
    "#         return 'Ultra Rare'\n",
    "#     elif normalized & group3:\n",
    "#         return 'Rare to Super Rare'\n",
    "#     elif normalized & group2:\n",
    "#         return 'Somewhat Rare'\n",
    "#     elif normalized & group1:\n",
    "#         return 'Common Rare'\n",
    "#     else:\n",
    "#         return 'Other'\n",
    "\n",
    "# def classify_subtypes_from_str(subtypes_str):\n",
    "#     # Safely convert string representation of list into a Python list\n",
    "#     try:\n",
    "#         subtypes_list = ast.literal_eval(subtypes_str)\n",
    "#         if not isinstance(subtypes_list, list):\n",
    "#             # If not list, fallback to empty list\n",
    "#             subtypes_list = []\n",
    "#     except Exception:\n",
    "#         # If parsing fails, fallback to empty list\n",
    "#         subtypes_list = []\n",
    "\n",
    "#     return classify_subtypes(subtypes_list)\n",
    "\n",
    "# # Usage example with your DataFrame\n",
    "# df['subtypes'] = df['subtypes'].apply(classify_subtypes_from_str)"
   ]
  },
  {
   "cell_type": "code",
   "execution_count": 140,
   "id": "5cd42bf9",
   "metadata": {},
   "outputs": [],
   "source": [
    "# df[\"subtypes\"].value_counts()"
   ]
  },
  {
   "cell_type": "markdown",
   "id": "9242f2ea",
   "metadata": {},
   "source": [
    "⭕️ Looks interesting"
   ]
  },
  {
   "cell_type": "markdown",
   "id": "ae2c2cd0",
   "metadata": {},
   "source": [
    "## HP"
   ]
  },
  {
   "cell_type": "code",
   "execution_count": 141,
   "id": "317621df",
   "metadata": {},
   "outputs": [
    {
     "data": {
      "image/png": "[encoded data removed]",
      "text/plain": [
       "<Figure size 640x480 with 1 Axes>"
      ]
     },
     "metadata": {},
     "output_type": "display_data"
    }
   ],
   "source": [
    "plt.hist(df[\"hp\"].dropna(), bins=20)\n",
    "plt.title(\"Distribution of HP\")\n",
    "plt.xlabel(\"HP\")\n",
    "plt.ylabel(\"Count\")\n",
    "plt.show()"
   ]
  },
  {
   "cell_type": "markdown",
   "id": "1b29bd9e",
   "metadata": {},
   "source": [
    "⭕️ looks relavent to the price"
   ]
  },
  {
   "cell_type": "markdown",
   "id": "579a7417",
   "metadata": {},
   "source": [
    "## Attacks"
   ]
  },
  {
   "cell_type": "code",
   "execution_count": 142,
   "id": "2080cb9e",
   "metadata": {},
   "outputs": [
    {
     "data": {
      "text/plain": [
       "\"[{'name': 'Confuse Ray', 'cost': ['Psychic', 'Psychic', 'Psychic'], 'convertedEnergyCost': 3, 'damage': '30', 'text': 'Flip a coin. If heads, the Defending Pokémon is now Confused.'}]\""
      ]
     },
     "execution_count": 142,
     "metadata": {},
     "output_type": "execute_result"
    }
   ],
   "source": [
    "df[\"attacks\"][0]"
   ]
  },
  {
   "cell_type": "code",
   "execution_count": 143,
   "id": "c294ae33",
   "metadata": {},
   "outputs": [],
   "source": [
    "def extract_damage_with_symbol(attacks_str):\n",
    "    if pd.isnull(attacks_str):\n",
    "        return None\n",
    "    try:\n",
    "        attacks = ast.literal_eval(attacks_str)\n",
    "        if isinstance(attacks, list) and len(attacks) > 0:\n",
    "            last_attack = attacks[-1]\n",
    "            damage = last_attack.get('damage', '')\n",
    "            # Corrected regex pattern here:\n",
    "            match = re.search(r'(\\d+[+x]?)', damage)\n",
    "            if match:\n",
    "                return match.group(1)\n",
    "            else:\n",
    "                return None\n",
    "    except Exception as e:\n",
    "        print(f\"Exception: {e}\")\n",
    "        return None\n",
    "\n",
    "df['last_attack_damage'] = df['attacks'].apply(extract_damage_with_symbol)\n"
   ]
  },
  {
   "cell_type": "code",
   "execution_count": 144,
   "id": "dc8a3ab3",
   "metadata": {},
   "outputs": [
    {
     "name": "stdout",
     "output_type": "stream",
     "text": [
      "Null rate is 11.283992150266329%\n"
     ]
    }
   ],
   "source": [
    "# Null rate\n",
    "null_rate = df['last_attack_damage'].isnull().mean()\n",
    "print(f\"Null rate is {100*null_rate}%\")"
   ]
  },
  {
   "cell_type": "markdown",
   "id": "7fe9101a",
   "metadata": {},
   "source": [
    "🔺 It might be hard to handle with both the ones with symbols and null values"
   ]
  },
  {
   "cell_type": "markdown",
   "id": "70a8b647",
   "metadata": {},
   "source": [
    "## Weakness"
   ]
  },
  {
   "cell_type": "code",
   "execution_count": 145,
   "id": "8488a07a",
   "metadata": {},
   "outputs": [
    {
     "data": {
      "text/plain": [
       "0          [{'type': 'Psychic', 'value': '×2'}]\n",
       "1        [{'type': 'Lightning', 'value': '×2'}]\n",
       "2         [{'type': 'Fighting', 'value': '×2'}]\n",
       "3            [{'type': 'Water', 'value': '×2'}]\n",
       "4         [{'type': 'Fighting', 'value': '×2'}]\n",
       "                          ...                  \n",
       "16931         [{'type': 'Fire', 'value': '×2'}]\n",
       "16932                                       NaN\n",
       "16939    [{'type': 'Lightning', 'value': '×2'}]\n",
       "16940        [{'type': 'Metal', 'value': '×2'}]\n",
       "16941        [{'type': 'Grass', 'value': '×2'}]\n",
       "Name: weaknesses, Length: 14268, dtype: object"
      ]
     },
     "execution_count": 145,
     "metadata": {},
     "output_type": "execute_result"
    }
   ],
   "source": [
    "df[\"weaknesses\"]"
   ]
  },
  {
   "cell_type": "markdown",
   "id": "228c3488",
   "metadata": {},
   "source": [
    "❌ looks irrelevent"
   ]
  },
  {
   "cell_type": "markdown",
   "id": "db511905",
   "metadata": {},
   "source": [
    "## Retreat Cost"
   ]
  },
  {
   "cell_type": "code",
   "execution_count": 146,
   "id": "d00454fa",
   "metadata": {},
   "outputs": [
    {
     "data": {
      "text/plain": [
       "0        ['Colorless', 'Colorless', 'Colorless']\n",
       "1        ['Colorless', 'Colorless', 'Colorless']\n",
       "2                                  ['Colorless']\n",
       "3        ['Colorless', 'Colorless', 'Colorless']\n",
       "4                                  ['Colorless']\n",
       "                          ...                   \n",
       "16931                 ['Colorless', 'Colorless']\n",
       "16932                              ['Colorless']\n",
       "16939                                        NaN\n",
       "16940                 ['Colorless', 'Colorless']\n",
       "16941                 ['Colorless', 'Colorless']\n",
       "Name: retreatCost, Length: 14268, dtype: object"
      ]
     },
     "execution_count": 146,
     "metadata": {},
     "output_type": "execute_result"
    }
   ],
   "source": [
    "df[\"retreatCost\"]"
   ]
  },
  {
   "cell_type": "markdown",
   "id": "fc91466d",
   "metadata": {},
   "source": [
    "❌You can use convertedRetreatCost"
   ]
  },
  {
   "cell_type": "markdown",
   "id": "307f999b",
   "metadata": {},
   "source": [
    "## convertedRetreatCost"
   ]
  },
  {
   "cell_type": "code",
   "execution_count": 147,
   "id": "a248f6bc",
   "metadata": {},
   "outputs": [
    {
     "data": {
      "text/plain": [
       "0        3.0\n",
       "1        3.0\n",
       "2        1.0\n",
       "3        3.0\n",
       "4        1.0\n",
       "        ... \n",
       "16931    2.0\n",
       "16932    1.0\n",
       "16939    NaN\n",
       "16940    2.0\n",
       "16941    2.0\n",
       "Name: convertedRetreatCost, Length: 14268, dtype: float64"
      ]
     },
     "execution_count": 147,
     "metadata": {},
     "output_type": "execute_result"
    }
   ],
   "source": [
    "df[\"convertedRetreatCost\"]"
   ]
  },
  {
   "cell_type": "code",
   "execution_count": 148,
   "id": "8b11c59c",
   "metadata": {},
   "outputs": [
    {
     "name": "stdout",
     "output_type": "stream",
     "text": [
      "Null rate is 5.649004765909728%\n"
     ]
    }
   ],
   "source": [
    "# Null rate\n",
    "null_rate = df[\"convertedRetreatCost\"].isnull().mean()\n",
    "print(f\"Null rate is {100*null_rate}%\")"
   ]
  },
  {
   "cell_type": "markdown",
   "id": "3d9bfac2",
   "metadata": {},
   "source": [
    "## rarity"
   ]
  },
  {
   "cell_type": "code",
   "execution_count": 149,
   "id": "42b02fd5",
   "metadata": {},
   "outputs": [
    {
     "name": "stdout",
     "output_type": "stream",
     "text": [
      "Number of unique sets: 30\n"
     ]
    }
   ],
   "source": [
    "# how many sets\n",
    "print(\"Number of unique sets:\", df['rarity'].nunique())"
   ]
  },
  {
   "cell_type": "code",
   "execution_count": 150,
   "id": "0cdb31b0",
   "metadata": {},
   "outputs": [
    {
     "data": {
      "text/plain": [
       "rarity\n",
       "Common                       4128\n",
       "Uncommon                     2648\n",
       "Rare                         2201\n",
       "Rare Holo                    1542\n",
       "Promo                         955\n",
       "Rare Ultra                    535\n",
       "Rare Holo EX                  316\n",
       "Rare Holo V                   282\n",
       "Rare Rainbow                  244\n",
       "Rare Holo GX                  163\n",
       "Rare Secret                   151\n",
       "Rare Shiny                    149\n",
       "Illustration Rare             122\n",
       "Rare Holo VMAX                110\n",
       "Double Rare                    82\n",
       "Trainer Gallery Rare Holo      80\n",
       "Ultra Rare                     68\n",
       "Rare Holo LV.X                 56\n",
       "Rare Holo VSTAR                44\n",
       "Rare Shiny GX                  35\n",
       "Special Illustration Rare      33\n",
       "Rare BREAK                     27\n",
       "Rare Prime                     26\n",
       "Rare Holo Star                 24\n",
       "LEGEND                         18\n",
       "Rare Prism Star                16\n",
       "Rare Shining                   16\n",
       "Radiant Rare                   15\n",
       "Hyper Rare                     12\n",
       "Amazing Rare                    9\n",
       "Name: count, dtype: int64"
      ]
     },
     "execution_count": 150,
     "metadata": {},
     "output_type": "execute_result"
    }
   ],
   "source": [
    "df['rarity'].value_counts()"
   ]
  },
  {
   "cell_type": "code",
   "execution_count": 151,
   "id": "fae9ec1e",
   "metadata": {},
   "outputs": [],
   "source": [
    "rarity_group = {\n",
    "    # 1. Common\n",
    "    \"Common\": \"Common\",\n",
    "\n",
    "    # 2. Uncommon\n",
    "    \"Uncommon\": \"Uncommon\",\n",
    "    \"Promo\": \"Uncommon\",\n",
    "    \"Trainer Gallery Rare Holo\": \"Uncommon\",\n",
    "\n",
    "    # 3. Rare\n",
    "    \"Rare\": \"Rare\",\n",
    "    \"Rare Holo\": \"Rare\",\n",
    "\n",
    "    # 4. Ultra Rare\n",
    "    \"Rare Ultra\": \"Ultra Rare\",\n",
    "    \"Rare Holo EX\": \"Ultra Rare\",\n",
    "    \"Rare Holo V\": \"Ultra Rare\",\n",
    "    \"Rare Holo GX\": \"Ultra Rare\",\n",
    "\n",
    "    # 5. VMAX/VSTAR Rare\n",
    "    \"Rare Holo VMAX\": \"VMAX Rare\",\n",
    "    \"Rare Holo VSTAR\": \"VMAX Rare\",\n",
    "\n",
    "    # 6. Shiny/Radiant Rare\n",
    "    \"Radiant Rare\": \"Shiny Rare\",\n",
    "    \"Rare Shiny\": \"Shiny Rare\",\n",
    "    \"Rare Shiny GX\": \"Shiny Rare\",\n",
    "    \"Rare Shining\": \"Shiny Rare\",\n",
    "\n",
    "    # 7. Rainbow/Secret Rare\n",
    "    \"Rare Rainbow\": \"Secret Rare\",\n",
    "    \"Rare Secret\": \"Secret Rare\",\n",
    "\n",
    "    # 8. Elite Rare (high-tier playable/legacy cards)\n",
    "    \"Double Rare\": \"Elite Rare\",\n",
    "    \"Rare BREAK\": \"Elite Rare\",\n",
    "    \"Rare Prime\": \"Elite Rare\",\n",
    "    \"Rare Holo LV.X\": \"Elite Rare\",\n",
    "    \"Rare Holo Star\": \"Elite Rare\",\n",
    "    \"Rare Prism Star\": \"Elite Rare\",\n",
    "\n",
    "    # 9. Special Illustration / Collection Rare\n",
    "    \"Illustration Rare\": \"Special Rare\",\n",
    "    \"Special Illustration Rare\": \"Special Rare\",\n",
    "    \"Classic Collection\": \"Special Rare\",\n",
    "    \"LEGEND\": \"Special Rare\",\n",
    "    \"Hyper Rare\": \"Special Rare\",\n",
    "    \"Amazing Rare\": \"Special Rare\"\n",
    "}\n",
    "\n",
    "df['rarity_grouped'] = df['rarity'].map(rarity_group)"
   ]
  },
  {
   "cell_type": "code",
   "execution_count": 152,
   "id": "cf437b8f",
   "metadata": {},
   "outputs": [
    {
     "data": {
      "text/plain": [
       "rarity_grouped\n",
       "Common          4128\n",
       "Rare            3743\n",
       "Uncommon        3683\n",
       "Ultra Rare      1296\n",
       "Secret Rare      395\n",
       "Elite Rare       231\n",
       "Shiny Rare       215\n",
       "Special Rare     194\n",
       "VMAX Rare        154\n",
       "Name: count, dtype: int64"
      ]
     },
     "execution_count": 152,
     "metadata": {},
     "output_type": "execute_result"
    }
   ],
   "source": [
    "df[\"rarity_grouped\"].value_counts()"
   ]
  },
  {
   "cell_type": "markdown",
   "id": "9b4cc575",
   "metadata": {},
   "source": [
    "⭕️looks useful"
   ]
  },
  {
   "cell_type": "markdown",
   "id": "69e6fb44",
   "metadata": {},
   "source": [
    "## legalities"
   ]
  },
  {
   "cell_type": "code",
   "execution_count": 153,
   "id": "bec022e2",
   "metadata": {},
   "outputs": [
    {
     "data": {
      "text/plain": [
       "legalities\n",
       "{'unlimited': 'Legal', 'expanded': 'Legal'}                         6412\n",
       "{'unlimited': 'Legal'}                                              4739\n",
       "{'unlimited': 'Legal', 'standard': 'Legal', 'expanded': 'Legal'}    3098\n",
       "{'unlimited': 'Legal', 'expanded': 'Banned'}                          14\n",
       "{'unlimited': 'Banned'}                                                5\n",
       "Name: count, dtype: int64"
      ]
     },
     "execution_count": 153,
     "metadata": {},
     "output_type": "execute_result"
    }
   ],
   "source": [
    "df[\"legalities\"].value_counts()"
   ]
  },
  {
   "cell_type": "markdown",
   "id": "ab23031f",
   "metadata": {},
   "source": [
    "❌It is hard to understand what are leagal"
   ]
  },
  {
   "cell_type": "markdown",
   "id": "8f33c713",
   "metadata": {},
   "source": [
    "## Possible Useful columns"
   ]
  },
  {
   "cell_type": "code",
   "execution_count": 154,
   "id": "09b7f112",
   "metadata": {},
   "outputs": [],
   "source": [
    "columns = [\"id\", \"series\",\"generation\", \"single_type\",\"hp\",\"subtypes\",\"last_attack_damage\", \"convertedRetreatCost\",\"rarity_grouped\",\"market_price\",\"market_price_log\",'name_counts']"
   ]
  },
  {
   "cell_type": "code",
   "execution_count": 155,
   "id": "19ecc5c8",
   "metadata": {},
   "outputs": [
    {
     "data": {
      "text/html": [
       "<div>\n",
       "<style scoped>\n",
       "    .dataframe tbody tr th:only-of-type {\n",
       "        vertical-align: middle;\n",
       "    }\n",
       "\n",
       "    .dataframe tbody tr th {\n",
       "        vertical-align: top;\n",
       "    }\n",
       "\n",
       "    .dataframe thead th {\n",
       "        text-align: right;\n",
       "    }\n",
       "</style>\n",
       "<table border=\"1\" class=\"dataframe\">\n",
       "  <thead>\n",
       "    <tr style=\"text-align: right;\">\n",
       "      <th></th>\n",
       "      <th>id</th>\n",
       "      <th>series</th>\n",
       "      <th>generation</th>\n",
       "      <th>single_type</th>\n",
       "      <th>hp</th>\n",
       "      <th>subtypes</th>\n",
       "      <th>last_attack_damage</th>\n",
       "      <th>convertedRetreatCost</th>\n",
       "      <th>rarity_grouped</th>\n",
       "      <th>market_price</th>\n",
       "      <th>market_price_log</th>\n",
       "      <th>name_counts</th>\n",
       "    </tr>\n",
       "  </thead>\n",
       "  <tbody>\n",
       "    <tr>\n",
       "      <th>0</th>\n",
       "      <td>base1-1</td>\n",
       "      <td>Base</td>\n",
       "      <td>First</td>\n",
       "      <td>Psychic</td>\n",
       "      <td>80.0</td>\n",
       "      <td>['Stage 2']</td>\n",
       "      <td>30</td>\n",
       "      <td>3.0</td>\n",
       "      <td>Rare</td>\n",
       "      <td>133.99</td>\n",
       "      <td>4.905201</td>\n",
       "      <td>8</td>\n",
       "    </tr>\n",
       "    <tr>\n",
       "      <th>1</th>\n",
       "      <td>base1-2</td>\n",
       "      <td>Base</td>\n",
       "      <td>First</td>\n",
       "      <td>Water</td>\n",
       "      <td>100.0</td>\n",
       "      <td>['Stage 2']</td>\n",
       "      <td>40+</td>\n",
       "      <td>3.0</td>\n",
       "      <td>Rare</td>\n",
       "      <td>93.95</td>\n",
       "      <td>4.553350</td>\n",
       "      <td>15</td>\n",
       "    </tr>\n",
       "    <tr>\n",
       "      <th>2</th>\n",
       "      <td>base1-3</td>\n",
       "      <td>Base</td>\n",
       "      <td>First</td>\n",
       "      <td>Colorless</td>\n",
       "      <td>120.0</td>\n",
       "      <td>['Basic']</td>\n",
       "      <td>80</td>\n",
       "      <td>1.0</td>\n",
       "      <td>Rare</td>\n",
       "      <td>23.63</td>\n",
       "      <td>3.203965</td>\n",
       "      <td>21</td>\n",
       "    </tr>\n",
       "    <tr>\n",
       "      <th>3</th>\n",
       "      <td>base1-4</td>\n",
       "      <td>Base</td>\n",
       "      <td>First</td>\n",
       "      <td>Fire</td>\n",
       "      <td>120.0</td>\n",
       "      <td>['Stage 2']</td>\n",
       "      <td>100</td>\n",
       "      <td>3.0</td>\n",
       "      <td>Rare</td>\n",
       "      <td>5527.50</td>\n",
       "      <td>8.617672</td>\n",
       "      <td>26</td>\n",
       "    </tr>\n",
       "    <tr>\n",
       "      <th>4</th>\n",
       "      <td>base1-5</td>\n",
       "      <td>Base</td>\n",
       "      <td>First</td>\n",
       "      <td>Colorless</td>\n",
       "      <td>40.0</td>\n",
       "      <td>['Basic']</td>\n",
       "      <td>None</td>\n",
       "      <td>1.0</td>\n",
       "      <td>Rare</td>\n",
       "      <td>23.18</td>\n",
       "      <td>3.185526</td>\n",
       "      <td>27</td>\n",
       "    </tr>\n",
       "  </tbody>\n",
       "</table>\n",
       "</div>"
      ],
      "text/plain": [
       "        id series generation single_type     hp     subtypes  \\\n",
       "0  base1-1   Base      First     Psychic   80.0  ['Stage 2']   \n",
       "1  base1-2   Base      First       Water  100.0  ['Stage 2']   \n",
       "2  base1-3   Base      First   Colorless  120.0    ['Basic']   \n",
       "3  base1-4   Base      First        Fire  120.0  ['Stage 2']   \n",
       "4  base1-5   Base      First   Colorless   40.0    ['Basic']   \n",
       "\n",
       "  last_attack_damage  convertedRetreatCost rarity_grouped  market_price  \\\n",
       "0                 30                   3.0           Rare        133.99   \n",
       "1                40+                   3.0           Rare         93.95   \n",
       "2                 80                   1.0           Rare         23.63   \n",
       "3                100                   3.0           Rare       5527.50   \n",
       "4               None                   1.0           Rare         23.18   \n",
       "\n",
       "   market_price_log  name_counts  \n",
       "0          4.905201            8  \n",
       "1          4.553350           15  \n",
       "2          3.203965           21  \n",
       "3          8.617672           26  \n",
       "4          3.185526           27  "
      ]
     },
     "execution_count": 155,
     "metadata": {},
     "output_type": "execute_result"
    }
   ],
   "source": [
    "df = df[columns]\n",
    "df.head()"
   ]
  },
  {
   "cell_type": "markdown",
   "id": "a6b3e5f0",
   "metadata": {},
   "source": [
    "# Data Cleaning"
   ]
  },
  {
   "cell_type": "code",
   "execution_count": 156,
   "id": "6bff3567",
   "metadata": {},
   "outputs": [
    {
     "data": {
      "text/html": [
       "<div>\n",
       "<style scoped>\n",
       "    .dataframe tbody tr th:only-of-type {\n",
       "        vertical-align: middle;\n",
       "    }\n",
       "\n",
       "    .dataframe tbody tr th {\n",
       "        vertical-align: top;\n",
       "    }\n",
       "\n",
       "    .dataframe thead th {\n",
       "        text-align: right;\n",
       "    }\n",
       "</style>\n",
       "<table border=\"1\" class=\"dataframe\">\n",
       "  <thead>\n",
       "    <tr style=\"text-align: right;\">\n",
       "      <th></th>\n",
       "      <th>id</th>\n",
       "      <th>series</th>\n",
       "      <th>generation</th>\n",
       "      <th>single_type</th>\n",
       "      <th>hp</th>\n",
       "      <th>subtypes</th>\n",
       "      <th>last_attack_damage</th>\n",
       "      <th>convertedRetreatCost</th>\n",
       "      <th>rarity_grouped</th>\n",
       "      <th>market_price</th>\n",
       "      <th>market_price_log</th>\n",
       "      <th>name_counts</th>\n",
       "    </tr>\n",
       "  </thead>\n",
       "  <tbody>\n",
       "    <tr>\n",
       "      <th>0</th>\n",
       "      <td>base1-1</td>\n",
       "      <td>Base</td>\n",
       "      <td>First</td>\n",
       "      <td>Psychic</td>\n",
       "      <td>80.0</td>\n",
       "      <td>['Stage 2']</td>\n",
       "      <td>30</td>\n",
       "      <td>3.0</td>\n",
       "      <td>Rare</td>\n",
       "      <td>133.99</td>\n",
       "      <td>4.905201</td>\n",
       "      <td>8</td>\n",
       "    </tr>\n",
       "    <tr>\n",
       "      <th>1</th>\n",
       "      <td>base1-2</td>\n",
       "      <td>Base</td>\n",
       "      <td>First</td>\n",
       "      <td>Water</td>\n",
       "      <td>100.0</td>\n",
       "      <td>['Stage 2']</td>\n",
       "      <td>40+</td>\n",
       "      <td>3.0</td>\n",
       "      <td>Rare</td>\n",
       "      <td>93.95</td>\n",
       "      <td>4.553350</td>\n",
       "      <td>15</td>\n",
       "    </tr>\n",
       "    <tr>\n",
       "      <th>2</th>\n",
       "      <td>base1-3</td>\n",
       "      <td>Base</td>\n",
       "      <td>First</td>\n",
       "      <td>Colorless</td>\n",
       "      <td>120.0</td>\n",
       "      <td>['Basic']</td>\n",
       "      <td>80</td>\n",
       "      <td>1.0</td>\n",
       "      <td>Rare</td>\n",
       "      <td>23.63</td>\n",
       "      <td>3.203965</td>\n",
       "      <td>21</td>\n",
       "    </tr>\n",
       "    <tr>\n",
       "      <th>3</th>\n",
       "      <td>base1-4</td>\n",
       "      <td>Base</td>\n",
       "      <td>First</td>\n",
       "      <td>Fire</td>\n",
       "      <td>120.0</td>\n",
       "      <td>['Stage 2']</td>\n",
       "      <td>100</td>\n",
       "      <td>3.0</td>\n",
       "      <td>Rare</td>\n",
       "      <td>5527.50</td>\n",
       "      <td>8.617672</td>\n",
       "      <td>26</td>\n",
       "    </tr>\n",
       "    <tr>\n",
       "      <th>4</th>\n",
       "      <td>base1-5</td>\n",
       "      <td>Base</td>\n",
       "      <td>First</td>\n",
       "      <td>Colorless</td>\n",
       "      <td>40.0</td>\n",
       "      <td>['Basic']</td>\n",
       "      <td>None</td>\n",
       "      <td>1.0</td>\n",
       "      <td>Rare</td>\n",
       "      <td>23.18</td>\n",
       "      <td>3.185526</td>\n",
       "      <td>27</td>\n",
       "    </tr>\n",
       "  </tbody>\n",
       "</table>\n",
       "</div>"
      ],
      "text/plain": [
       "        id series generation single_type     hp     subtypes  \\\n",
       "0  base1-1   Base      First     Psychic   80.0  ['Stage 2']   \n",
       "1  base1-2   Base      First       Water  100.0  ['Stage 2']   \n",
       "2  base1-3   Base      First   Colorless  120.0    ['Basic']   \n",
       "3  base1-4   Base      First        Fire  120.0  ['Stage 2']   \n",
       "4  base1-5   Base      First   Colorless   40.0    ['Basic']   \n",
       "\n",
       "  last_attack_damage  convertedRetreatCost rarity_grouped  market_price  \\\n",
       "0                 30                   3.0           Rare        133.99   \n",
       "1                40+                   3.0           Rare         93.95   \n",
       "2                 80                   1.0           Rare         23.63   \n",
       "3                100                   3.0           Rare       5527.50   \n",
       "4               None                   1.0           Rare         23.18   \n",
       "\n",
       "   market_price_log  name_counts  \n",
       "0          4.905201            8  \n",
       "1          4.553350           15  \n",
       "2          3.203965           21  \n",
       "3          8.617672           26  \n",
       "4          3.185526           27  "
      ]
     },
     "execution_count": 156,
     "metadata": {},
     "output_type": "execute_result"
    }
   ],
   "source": [
    "df.head()"
   ]
  },
  {
   "cell_type": "code",
   "execution_count": 157,
   "id": "52540d27",
   "metadata": {},
   "outputs": [
    {
     "data": {
      "text/plain": [
       "id                         0\n",
       "series                     0\n",
       "generation                 0\n",
       "single_type                0\n",
       "hp                         0\n",
       "subtypes                   0\n",
       "last_attack_damage      1610\n",
       "convertedRetreatCost     806\n",
       "rarity_grouped           229\n",
       "market_price               0\n",
       "market_price_log           0\n",
       "name_counts                0\n",
       "dtype: int64"
      ]
     },
     "execution_count": 157,
     "metadata": {},
     "output_type": "execute_result"
    }
   ],
   "source": [
    "df.isna().sum()"
   ]
  },
  {
   "cell_type": "code",
   "execution_count": 158,
   "id": "405d95fd",
   "metadata": {},
   "outputs": [],
   "source": [
    "# You might be able to use last_attack_damage to predict the price but for now we will drop it\n",
    "df = df.drop(columns=[\"last_attack_damage\"])"
   ]
  },
  {
   "cell_type": "code",
   "execution_count": 159,
   "id": "41986566",
   "metadata": {},
   "outputs": [
    {
     "data": {
      "text/plain": [
       "id                      0\n",
       "series                  0\n",
       "generation              0\n",
       "single_type             0\n",
       "hp                      0\n",
       "subtypes                0\n",
       "convertedRetreatCost    0\n",
       "rarity_grouped          0\n",
       "market_price            0\n",
       "market_price_log        0\n",
       "name_counts             0\n",
       "dtype: int64"
      ]
     },
     "execution_count": 159,
     "metadata": {},
     "output_type": "execute_result"
    }
   ],
   "source": [
    "df = df.dropna()\n",
    "df.isna().sum()"
   ]
  },
  {
   "cell_type": "markdown",
   "id": "125d8ced",
   "metadata": {},
   "source": [
    "# Pipeline(Feature Engineering,Train_Test_Split,Modeling and Evaluation)"
   ]
  },
  {
   "cell_type": "code",
   "execution_count": 160,
   "id": "d8233e09",
   "metadata": {},
   "outputs": [
    {
     "data": {
      "text/plain": [
       "Index(['id', 'series', 'generation', 'single_type', 'hp', 'subtypes',\n",
       "       'convertedRetreatCost', 'rarity_grouped', 'market_price',\n",
       "       'market_price_log', 'name_counts'],\n",
       "      dtype='object')"
      ]
     },
     "execution_count": 160,
     "metadata": {},
     "output_type": "execute_result"
    }
   ],
   "source": [
    "df.columns"
   ]
  },
  {
   "cell_type": "code",
   "execution_count": 161,
   "id": "6dccb492",
   "metadata": {},
   "outputs": [
    {
     "name": "stdout",
     "output_type": "stream",
     "text": [
      "                            hp  convertedRetreatCost  market_price_log\n",
      "hp                    1.000000              0.492520          0.366091\n",
      "convertedRetreatCost  0.492520              1.000000          0.180873\n",
      "market_price_log      0.366091              0.180873          1.000000\n"
     ]
    }
   ],
   "source": [
    "# Calculate correlation matrix for all numeric columns\n",
    "correlation_table = df[['hp', 'convertedRetreatCost', 'market_price_log']].corr()\n",
    "\n",
    "print(correlation_table)"
   ]
  },
  {
   "cell_type": "code",
   "execution_count": 162,
   "id": "548a2ef1",
   "metadata": {},
   "outputs": [
    {
     "data": {
      "text/html": [
       "<div>\n",
       "<style scoped>\n",
       "    .dataframe tbody tr th:only-of-type {\n",
       "        vertical-align: middle;\n",
       "    }\n",
       "\n",
       "    .dataframe tbody tr th {\n",
       "        vertical-align: top;\n",
       "    }\n",
       "\n",
       "    .dataframe thead th {\n",
       "        text-align: right;\n",
       "    }\n",
       "</style>\n",
       "<table border=\"1\" class=\"dataframe\">\n",
       "  <thead>\n",
       "    <tr style=\"text-align: right;\">\n",
       "      <th></th>\n",
       "      <th>id</th>\n",
       "      <th>series</th>\n",
       "      <th>generation</th>\n",
       "      <th>single_type</th>\n",
       "      <th>hp</th>\n",
       "      <th>subtypes</th>\n",
       "      <th>convertedRetreatCost</th>\n",
       "      <th>rarity_grouped</th>\n",
       "      <th>market_price</th>\n",
       "      <th>market_price_log</th>\n",
       "      <th>name_counts</th>\n",
       "    </tr>\n",
       "  </thead>\n",
       "  <tbody>\n",
       "    <tr>\n",
       "      <th>0</th>\n",
       "      <td>base1-1</td>\n",
       "      <td>Base</td>\n",
       "      <td>First</td>\n",
       "      <td>Psychic</td>\n",
       "      <td>80.0</td>\n",
       "      <td>['Stage 2']</td>\n",
       "      <td>3.0</td>\n",
       "      <td>Rare</td>\n",
       "      <td>133.99</td>\n",
       "      <td>4.905201</td>\n",
       "      <td>8</td>\n",
       "    </tr>\n",
       "    <tr>\n",
       "      <th>1</th>\n",
       "      <td>base1-2</td>\n",
       "      <td>Base</td>\n",
       "      <td>First</td>\n",
       "      <td>Water</td>\n",
       "      <td>100.0</td>\n",
       "      <td>['Stage 2']</td>\n",
       "      <td>3.0</td>\n",
       "      <td>Rare</td>\n",
       "      <td>93.95</td>\n",
       "      <td>4.553350</td>\n",
       "      <td>15</td>\n",
       "    </tr>\n",
       "    <tr>\n",
       "      <th>2</th>\n",
       "      <td>base1-3</td>\n",
       "      <td>Base</td>\n",
       "      <td>First</td>\n",
       "      <td>Colorless</td>\n",
       "      <td>120.0</td>\n",
       "      <td>['Basic']</td>\n",
       "      <td>1.0</td>\n",
       "      <td>Rare</td>\n",
       "      <td>23.63</td>\n",
       "      <td>3.203965</td>\n",
       "      <td>21</td>\n",
       "    </tr>\n",
       "    <tr>\n",
       "      <th>3</th>\n",
       "      <td>base1-4</td>\n",
       "      <td>Base</td>\n",
       "      <td>First</td>\n",
       "      <td>Fire</td>\n",
       "      <td>120.0</td>\n",
       "      <td>['Stage 2']</td>\n",
       "      <td>3.0</td>\n",
       "      <td>Rare</td>\n",
       "      <td>5527.50</td>\n",
       "      <td>8.617672</td>\n",
       "      <td>26</td>\n",
       "    </tr>\n",
       "    <tr>\n",
       "      <th>4</th>\n",
       "      <td>base1-5</td>\n",
       "      <td>Base</td>\n",
       "      <td>First</td>\n",
       "      <td>Colorless</td>\n",
       "      <td>40.0</td>\n",
       "      <td>['Basic']</td>\n",
       "      <td>1.0</td>\n",
       "      <td>Rare</td>\n",
       "      <td>23.18</td>\n",
       "      <td>3.185526</td>\n",
       "      <td>27</td>\n",
       "    </tr>\n",
       "    <tr>\n",
       "      <th>...</th>\n",
       "      <td>...</td>\n",
       "      <td>...</td>\n",
       "      <td>...</td>\n",
       "      <td>...</td>\n",
       "      <td>...</td>\n",
       "      <td>...</td>\n",
       "      <td>...</td>\n",
       "      <td>...</td>\n",
       "      <td>...</td>\n",
       "      <td>...</td>\n",
       "      <td>...</td>\n",
       "    </tr>\n",
       "    <tr>\n",
       "      <th>16930</th>\n",
       "      <td>sv4-251</td>\n",
       "      <td>Scarlet &amp; Violet</td>\n",
       "      <td>Ninth</td>\n",
       "      <td>Darkness</td>\n",
       "      <td>230.0</td>\n",
       "      <td>['Basic', 'ex', 'Ancient']</td>\n",
       "      <td>2.0</td>\n",
       "      <td>Special Rare</td>\n",
       "      <td>48.05</td>\n",
       "      <td>3.892840</td>\n",
       "      <td>4</td>\n",
       "    </tr>\n",
       "    <tr>\n",
       "      <th>16931</th>\n",
       "      <td>sv4-252</td>\n",
       "      <td>Scarlet &amp; Violet</td>\n",
       "      <td>Ninth</td>\n",
       "      <td>Metal</td>\n",
       "      <td>260.0</td>\n",
       "      <td>['Stage 1', 'ex']</td>\n",
       "      <td>2.0</td>\n",
       "      <td>Special Rare</td>\n",
       "      <td>24.98</td>\n",
       "      <td>3.257327</td>\n",
       "      <td>3</td>\n",
       "    </tr>\n",
       "    <tr>\n",
       "      <th>16932</th>\n",
       "      <td>sv4-253</td>\n",
       "      <td>Scarlet &amp; Violet</td>\n",
       "      <td>Ninth</td>\n",
       "      <td>Dragon</td>\n",
       "      <td>260.0</td>\n",
       "      <td>['Stage 1', 'ex']</td>\n",
       "      <td>1.0</td>\n",
       "      <td>Special Rare</td>\n",
       "      <td>57.79</td>\n",
       "      <td>4.073972</td>\n",
       "      <td>4</td>\n",
       "    </tr>\n",
       "    <tr>\n",
       "      <th>16940</th>\n",
       "      <td>sv4-261</td>\n",
       "      <td>Scarlet &amp; Violet</td>\n",
       "      <td>Ninth</td>\n",
       "      <td>Psychic</td>\n",
       "      <td>220.0</td>\n",
       "      <td>['Basic', 'ex', 'Future']</td>\n",
       "      <td>2.0</td>\n",
       "      <td>Special Rare</td>\n",
       "      <td>4.54</td>\n",
       "      <td>1.711995</td>\n",
       "      <td>4</td>\n",
       "    </tr>\n",
       "    <tr>\n",
       "      <th>16941</th>\n",
       "      <td>sv4-262</td>\n",
       "      <td>Scarlet &amp; Violet</td>\n",
       "      <td>Ninth</td>\n",
       "      <td>Darkness</td>\n",
       "      <td>230.0</td>\n",
       "      <td>['Basic', 'ex', 'Ancient']</td>\n",
       "      <td>2.0</td>\n",
       "      <td>Special Rare</td>\n",
       "      <td>6.03</td>\n",
       "      <td>1.950187</td>\n",
       "      <td>4</td>\n",
       "    </tr>\n",
       "  </tbody>\n",
       "</table>\n",
       "<p>13244 rows × 11 columns</p>\n",
       "</div>"
      ],
      "text/plain": [
       "            id            series generation single_type     hp  \\\n",
       "0      base1-1              Base      First     Psychic   80.0   \n",
       "1      base1-2              Base      First       Water  100.0   \n",
       "2      base1-3              Base      First   Colorless  120.0   \n",
       "3      base1-4              Base      First        Fire  120.0   \n",
       "4      base1-5              Base      First   Colorless   40.0   \n",
       "...        ...               ...        ...         ...    ...   \n",
       "16930  sv4-251  Scarlet & Violet      Ninth    Darkness  230.0   \n",
       "16931  sv4-252  Scarlet & Violet      Ninth       Metal  260.0   \n",
       "16932  sv4-253  Scarlet & Violet      Ninth      Dragon  260.0   \n",
       "16940  sv4-261  Scarlet & Violet      Ninth     Psychic  220.0   \n",
       "16941  sv4-262  Scarlet & Violet      Ninth    Darkness  230.0   \n",
       "\n",
       "                         subtypes  convertedRetreatCost rarity_grouped  \\\n",
       "0                     ['Stage 2']                   3.0           Rare   \n",
       "1                     ['Stage 2']                   3.0           Rare   \n",
       "2                       ['Basic']                   1.0           Rare   \n",
       "3                     ['Stage 2']                   3.0           Rare   \n",
       "4                       ['Basic']                   1.0           Rare   \n",
       "...                           ...                   ...            ...   \n",
       "16930  ['Basic', 'ex', 'Ancient']                   2.0   Special Rare   \n",
       "16931           ['Stage 1', 'ex']                   2.0   Special Rare   \n",
       "16932           ['Stage 1', 'ex']                   1.0   Special Rare   \n",
       "16940   ['Basic', 'ex', 'Future']                   2.0   Special Rare   \n",
       "16941  ['Basic', 'ex', 'Ancient']                   2.0   Special Rare   \n",
       "\n",
       "       market_price  market_price_log  name_counts  \n",
       "0            133.99          4.905201            8  \n",
       "1             93.95          4.553350           15  \n",
       "2             23.63          3.203965           21  \n",
       "3           5527.50          8.617672           26  \n",
       "4             23.18          3.185526           27  \n",
       "...             ...               ...          ...  \n",
       "16930         48.05          3.892840            4  \n",
       "16931         24.98          3.257327            3  \n",
       "16932         57.79          4.073972            4  \n",
       "16940          4.54          1.711995            4  \n",
       "16941          6.03          1.950187            4  \n",
       "\n",
       "[13244 rows x 11 columns]"
      ]
     },
     "execution_count": 162,
     "metadata": {},
     "output_type": "execute_result"
    }
   ],
   "source": [
    "df"
   ]
  },
  {
   "cell_type": "code",
   "execution_count": 163,
   "id": "2f5f9278",
   "metadata": {},
   "outputs": [
    {
     "name": "stderr",
     "output_type": "stream",
     "text": [
      "/Users/suzukikenta/.pyenv/versions/3.10.6/envs/Pokemon/lib/python3.10/site-packages/sklearn/base.py:1389: DataConversionWarning: A column-vector y was passed when a 1d array was expected. Please change the shape of y to (n_samples,), for example using ravel().\n",
      "  return fit_method(estimator, *args, **kwargs)\n"
     ]
    },
    {
     "name": "stdout",
     "output_type": "stream",
     "text": [
      "R-squared: 0.6737412214886723\n"
     ]
    }
   ],
   "source": [
    "# Pipeline for Machine Learning\n",
    "X = df.columns.drop([\"market_price_log\", \"market_price_log\"]).tolist()\n",
    "y = [\"market_price_log\"]\n",
    "\n",
    "X_train, X_test, y_train, y_test = train_test_split(df[X], df[y], test_size=0.2, random_state=42)\n",
    "\n",
    "# Identify categorical and numeric columns\n",
    "categorical_cols = ['series', 'generation','single_type','subtypes']\n",
    "numeric_cols = ['hp','name_counts']\n",
    "ordinal_col = ['rarity_grouped',]\n",
    "\n",
    "ordinal_transformer = OrdinalEncoder(categories=[[\n",
    "    \"Common\",\n",
    "    \"Uncommon\",\n",
    "    \"Rare\",\n",
    "    \"Ultra Rare\",\n",
    "    \"VMAX Rare\",\n",
    "    \"Shiny Rare\",\n",
    "    \"Secret Rare\",\n",
    "    \"Elite Rare\",\n",
    "    \"Special Rare\"\n",
    "]])\n",
    "\n",
    "# Define preprocessing for categorical data: OneHotEncoding\n",
    "categorical_transformer = OneHotEncoder(handle_unknown='ignore')\n",
    "\n",
    "# Define preprocessing for numeric data: scaling\n",
    "numeric_transformer = StandardScaler()\n",
    "\n",
    "# Combine preprocessing steps\n",
    "preprocessor = ColumnTransformer(\n",
    "    transformers=[\n",
    "        ('cat', categorical_transformer, categorical_cols),\n",
    "        ('ord', ordinal_transformer, ordinal_col),\n",
    "        ('num', numeric_transformer, numeric_cols)\n",
    "    ]\n",
    ")\n",
    "# Create the full pipeline including the model\n",
    "pipeline = Pipeline(steps=[\n",
    "    ('preprocessor', preprocessor),\n",
    "    ('regressor', RandomForestRegressor(random_state=42))\n",
    "])\n",
    "\n",
    "# Fit pipeline on training data (this fits preprocessing and the model)\n",
    "pipeline.fit(X_train, y_train)\n",
    "\n",
    "# Predict or evaluate on test data (this applies the exact same preprocessing)\n",
    "y_pred = pipeline.predict(X_test)\n",
    "\n",
    "r2 = r2_score(y_test, y_pred)\n",
    "print(\"R-squared:\", r2)"
   ]
  },
  {
   "cell_type": "code",
   "execution_count": null,
   "id": "45164ab0",
   "metadata": {},
   "outputs": [],
   "source": []
  },
  {
   "cell_type": "code",
   "execution_count": 164,
   "id": "e89df806",
   "metadata": {},
   "outputs": [
    {
     "name": "stdout",
     "output_type": "stream",
     "text": [
      "['cat__series_Base' 'cat__series_Black & White'\n",
      " 'cat__series_Diamond & Pearl' 'cat__series_E-Card' 'cat__series_EX'\n",
      " 'cat__series_Gym' 'cat__series_HeartGold & SoulSilver' 'cat__series_NP'\n",
      " 'cat__series_Neo' 'cat__series_Other' 'cat__series_POP'\n",
      " 'cat__series_Platinum' 'cat__series_Scarlet & Violet'\n",
      " 'cat__series_Sun & Moon' 'cat__series_Sword & Shield' 'cat__series_XY'\n",
      " 'cat__generation_Eighth' 'cat__generation_Fifth' 'cat__generation_First'\n",
      " 'cat__generation_Fourth' 'cat__generation_Fourth '\n",
      " 'cat__generation_Ninth' 'cat__generation_Second'\n",
      " 'cat__generation_Seventh' 'cat__generation_Sixth' 'cat__generation_Third'\n",
      " 'cat__single_type_Colorless' 'cat__single_type_Darkness'\n",
      " 'cat__single_type_Dragon' 'cat__single_type_Fairy'\n",
      " 'cat__single_type_Fighting' 'cat__single_type_Fire'\n",
      " 'cat__single_type_Grass' 'cat__single_type_Lightning'\n",
      " 'cat__single_type_Metal' 'cat__single_type_Psychic'\n",
      " 'cat__single_type_Water' \"cat__subtypes_['Baby']\"\n",
      " \"cat__subtypes_['Basic', 'Ancient']\"\n",
      " \"cat__subtypes_['Basic', 'EX', 'Team Plasma']\"\n",
      " \"cat__subtypes_['Basic', 'EX']\"\n",
      " \"cat__subtypes_['Basic', 'Fusion Strike', 'Single Strike', 'Rapid Strike']\"\n",
      " \"cat__subtypes_['Basic', 'Fusion Strike']\"\n",
      " \"cat__subtypes_['Basic', 'Future']\"\n",
      " \"cat__subtypes_['Basic', 'GX', 'Ultra Beast']\"\n",
      " \"cat__subtypes_['Basic', 'GX']\" \"cat__subtypes_['Basic', 'Prime']\"\n",
      " \"cat__subtypes_['Basic', 'Prism Star']\"\n",
      " \"cat__subtypes_['Basic', 'Radiant']\"\n",
      " \"cat__subtypes_['Basic', 'Rapid Strike']\" \"cat__subtypes_['Basic', 'SP']\"\n",
      " \"cat__subtypes_['Basic', 'Single Strike']\"\n",
      " \"cat__subtypes_['Basic', 'Star']\"\n",
      " \"cat__subtypes_['Basic', 'TAG TEAM', 'GX', 'Ultra Beast']\"\n",
      " \"cat__subtypes_['Basic', 'TAG TEAM', 'GX']\"\n",
      " \"cat__subtypes_['Basic', 'Team Plasma']\"\n",
      " \"cat__subtypes_['Basic', 'Tera', 'ex']\"\n",
      " \"cat__subtypes_['Basic', 'Ultra Beast']\"\n",
      " \"cat__subtypes_['Basic', 'V', 'Fusion Strike']\"\n",
      " \"cat__subtypes_['Basic', 'V', 'Rapid Strike']\"\n",
      " \"cat__subtypes_['Basic', 'V', 'Single Strike']\"\n",
      " \"cat__subtypes_['Basic', 'V']\" \"cat__subtypes_['Basic', 'ex', 'Ancient']\"\n",
      " \"cat__subtypes_['Basic', 'ex', 'Future']\"\n",
      " \"cat__subtypes_['Basic', 'ex', 'Tera']\" \"cat__subtypes_['Basic', 'ex']\"\n",
      " \"cat__subtypes_['Basic']\" \"cat__subtypes_['LEGEND']\"\n",
      " \"cat__subtypes_['Level-Up', 'SP']\" \"cat__subtypes_['Level-Up']\"\n",
      " \"cat__subtypes_['MEGA', 'EX']\" \"cat__subtypes_['Restored']\"\n",
      " \"cat__subtypes_['Stage 1', 'EX']\"\n",
      " \"cat__subtypes_['Stage 1', 'Fusion Strike']\"\n",
      " \"cat__subtypes_['Stage 1', 'GX', 'Ultra Beast']\"\n",
      " \"cat__subtypes_['Stage 1', 'GX']\" \"cat__subtypes_['Stage 1', 'Prime']\"\n",
      " \"cat__subtypes_['Stage 1', 'Rapid Strike']\"\n",
      " \"cat__subtypes_['Stage 1', 'Single Strike']\"\n",
      " \"cat__subtypes_['Stage 1', 'Team Plasma']\"\n",
      " \"cat__subtypes_['Stage 1', 'Tera', 'ex']\"\n",
      " \"cat__subtypes_['Stage 1', 'Ultra Beast']\"\n",
      " \"cat__subtypes_['Stage 1', 'ex', 'Tera']\"\n",
      " \"cat__subtypes_['Stage 1', 'ex']\" \"cat__subtypes_['Stage 1']\"\n",
      " \"cat__subtypes_['Stage 2', 'EX']\" \"cat__subtypes_['Stage 2', 'GX']\"\n",
      " \"cat__subtypes_['Stage 2', 'Prime']\"\n",
      " \"cat__subtypes_['Stage 2', 'Rapid Strike']\"\n",
      " \"cat__subtypes_['Stage 2', 'Single Strike']\"\n",
      " \"cat__subtypes_['Stage 2', 'Team Plasma']\"\n",
      " \"cat__subtypes_['Stage 2', 'Tera', 'ex']\"\n",
      " \"cat__subtypes_['Stage 2', 'ex', 'Tera']\"\n",
      " \"cat__subtypes_['Stage 2', 'ex']\" \"cat__subtypes_['Stage 2']\"\n",
      " \"cat__subtypes_['V-UNION']\" \"cat__subtypes_['VMAX', 'Eternamax']\"\n",
      " \"cat__subtypes_['VMAX', 'Rapid Strike']\"\n",
      " \"cat__subtypes_['VMAX', 'Single Strike']\" \"cat__subtypes_['VMAX']\"\n",
      " \"cat__subtypes_['VSTAR']\" 'ord__rarity_grouped' 'num__hp'\n",
      " 'num__name_counts']\n"
     ]
    }
   ],
   "source": [
    "# Features for the model\n",
    "\n",
    "preprocessor.fit(X_train)\n",
    "feature_names = preprocessor.get_feature_names_out()\n",
    "\n",
    "print(feature_names)"
   ]
  },
  {
   "cell_type": "markdown",
   "id": "79f0a31a",
   "metadata": {},
   "source": [
    "# Pipeline(Grid Search)"
   ]
  },
  {
   "cell_type": "code",
   "execution_count": 165,
   "id": "a698e698",
   "metadata": {},
   "outputs": [],
   "source": [
    "param_grid = [\n",
    "    {\n",
    "        'regressor': [LinearRegression()],\n",
    "        'regressor__fit_intercept': [True, False]\n",
    "    },\n",
    "    {\n",
    "        'regressor': [Ridge()],\n",
    "        'regressor__alpha': [0.1, 1.0, 10.0]\n",
    "    },\n",
    "    {\n",
    "        'regressor': [Lasso()],\n",
    "        'regressor__alpha': [0.01, 0.1, 1.0]\n",
    "    },\n",
    "    {\n",
    "        'regressor': [ElasticNet()],\n",
    "        'regressor__alpha': [0.01, 0.1, 1.0],\n",
    "        'regressor__l1_ratio': [0.2, 0.5, 0.8]\n",
    "    },\n",
    "    {\n",
    "        'regressor': [RandomForestRegressor(random_state=42)],\n",
    "        'regressor__n_estimators': [50, 100],\n",
    "        'regressor__max_depth': [None, 10]\n",
    "    },\n",
    "    {\n",
    "        'regressor': [GradientBoostingRegressor(random_state=42)],\n",
    "        'regressor__n_estimators': [50, 100],\n",
    "        'regressor__learning_rate': [0.05, 0.1]\n",
    "    },\n",
    "    {\n",
    "        'regressor': [HistGradientBoostingRegressor(random_state=42)],\n",
    "        'regressor__max_iter': [100, 200]\n",
    "    },\n",
    "    {\n",
    "        'regressor': [AdaBoostRegressor(random_state=42)],\n",
    "        'regressor__n_estimators': [50, 100]\n",
    "    },\n",
    "    {\n",
    "        'regressor': [SVR()],\n",
    "        'regressor__kernel': ['linear', 'rbf'],\n",
    "        'regressor__C': [0.1, 1, 10]\n",
    "    },\n",
    "    {\n",
    "        'regressor': [KNeighborsRegressor()],\n",
    "        'regressor__n_neighbors': [3, 5, 7]\n",
    "    },\n",
    "    {\n",
    "        'regressor': [DecisionTreeRegressor(random_state=42)],\n",
    "        'regressor__max_depth': [None, 5, 10]\n",
    "    },\n",
    "    {\n",
    "        'regressor': [DummyRegressor()],\n",
    "        'regressor__strategy': ['mean', 'median']\n",
    "    },\n",
    "    {\n",
    "        'regressor': [XGBRegressor(random_state=42, verbosity=0)],\n",
    "        'regressor__n_estimators': [50, 100],\n",
    "        'regressor__learning_rate': [0.05, 0.1]\n",
    "    },\n",
    "    {\n",
    "        'regressor': [LGBMRegressor(random_state=42)],\n",
    "        'regressor__n_estimators': [50, 100],\n",
    "        'regressor__learning_rate': [0.05, 0.1]\n",
    "    }\n",
    "]\n"
   ]
  },
  {
   "cell_type": "code",
   "execution_count": 166,
   "id": "aa9138cf",
   "metadata": {},
   "outputs": [
    {
     "name": "stdout",
     "output_type": "stream",
     "text": [
      "Fitting 5 folds for each of 51 candidates, totalling 255 fits\n",
      "[LightGBM] [Info] Auto-choosing row-wise multi-threading, the overhead of testing was 0.000531 seconds.\n",
      "You can set `force_row_wise=true` to remove the overhead.\n",
      "And if memory is not enough, you can set `force_col_wise=true`.\n",
      "[LightGBM] [Info] Total Bins 203\n",
      "[LightGBM] [Info] Number of data points in the train set: 8476, number of used features: 65\n",
      "[LightGBM] [Info] Start training from score 1.024740\n",
      "[LightGBM] [Info] Auto-choosing col-wise multi-threading, the overhead of testing was 0.000822 seconds.\n",
      "You can set `force_col_wise=true` to remove the overhead.\n",
      "[LightGBM] [Info] Total Bins 201\n",
      "[LightGBM] [Info] Number of data points in the train set: 8476, number of used features: 64\n",
      "[LightGBM] [Info] Start training from score 1.011004\n",
      "[LightGBM] [Info] Auto-choosing col-wise multi-threading, the overhead of testing was 0.000731 seconds.\n",
      "You can set `force_col_wise=true` to remove the overhead.\n",
      "[LightGBM] [Info] Total Bins 197\n",
      "[LightGBM] [Info] Number of data points in the train set: 8476, number of used features: 62\n",
      "[LightGBM] [Info] Start training from score 1.009891\n"
     ]
    },
    {
     "name": "stderr",
     "output_type": "stream",
     "text": [
      "/Users/suzukikenta/.pyenv/versions/3.10.6/envs/Pokemon/lib/python3.10/site-packages/sklearn/utils/validation.py:2739: UserWarning: X does not have valid feature names, but LGBMRegressor was fitted with feature names\n",
      "  warnings.warn(\n",
      "/Users/suzukikenta/.pyenv/versions/3.10.6/envs/Pokemon/lib/python3.10/site-packages/sklearn/utils/validation.py:2739: UserWarning: X does not have valid feature names, but LGBMRegressor was fitted with feature names\n",
      "  warnings.warn(\n",
      "/Users/suzukikenta/.pyenv/versions/3.10.6/envs/Pokemon/lib/python3.10/site-packages/sklearn/utils/validation.py:2739: UserWarning: X does not have valid feature names, but LGBMRegressor was fitted with feature names\n",
      "  warnings.warn(\n"
     ]
    },
    {
     "name": "stdout",
     "output_type": "stream",
     "text": [
      "[LightGBM] [Info] Auto-choosing row-wise multi-threading, the overhead of testing was 0.000251 seconds.\n",
      "You can set `force_row_wise=true` to remove the overhead.\n",
      "And if memory is not enough, you can set `force_col_wise=true`.\n",
      "[LightGBM] [Info] Total Bins 197\n",
      "[LightGBM] [Info] Number of data points in the train set: 8476, number of used features: 62\n",
      "[LightGBM] [Info] Start training from score 1.002697\n",
      "[LightGBM] [Info] Auto-choosing col-wise multi-threading, the overhead of testing was 0.000582 seconds.\n",
      "You can set `force_col_wise=true` to remove the overhead.\n",
      "[LightGBM] [Info] Total Bins 203\n",
      "[LightGBM] [Info] Number of data points in the train set: 8476, number of used features: 65\n",
      "[LightGBM] [Info] Start training from score 1.007777\n",
      "[LightGBM] [Info] Auto-choosing col-wise multi-threading, the overhead of testing was 0.000692 seconds.\n",
      "You can set `force_col_wise=true` to remove the overhead.\n",
      "[LightGBM] [Info] Total Bins 203\n",
      "[LightGBM] [Info] Number of data points in the train set: 8476, number of used features: 65\n",
      "[LightGBM] [Info] Start training from score 1.024740\n"
     ]
    },
    {
     "name": "stderr",
     "output_type": "stream",
     "text": [
      "/Users/suzukikenta/.pyenv/versions/3.10.6/envs/Pokemon/lib/python3.10/site-packages/sklearn/utils/validation.py:2739: UserWarning: X does not have valid feature names, but LGBMRegressor was fitted with feature names\n",
      "  warnings.warn(\n",
      "/Users/suzukikenta/.pyenv/versions/3.10.6/envs/Pokemon/lib/python3.10/site-packages/sklearn/utils/validation.py:2739: UserWarning: X does not have valid feature names, but LGBMRegressor was fitted with feature names\n",
      "  warnings.warn(\n"
     ]
    },
    {
     "name": "stdout",
     "output_type": "stream",
     "text": [
      "[LightGBM] [Info] Auto-choosing row-wise multi-threading, the overhead of testing was 0.000214 seconds.\n",
      "You can set `force_row_wise=true` to remove the overhead.\n",
      "And if memory is not enough, you can set `force_col_wise=true`.\n",
      "[LightGBM] [Info] Total Bins 201\n",
      "[LightGBM] [Info] Number of data points in the train set: 8476, number of used features: 64\n",
      "[LightGBM] [Info] Start training from score 1.011004\n",
      "[LightGBM] [Info] Auto-choosing col-wise multi-threading, the overhead of testing was 0.000658 seconds.\n",
      "You can set `force_col_wise=true` to remove the overhead.\n",
      "[LightGBM] [Info] Total Bins 197\n",
      "[LightGBM] [Info] Number of data points in the train set: 8476, number of used features: 62\n",
      "[LightGBM] [Info] Start training from score 1.009891\n"
     ]
    },
    {
     "name": "stderr",
     "output_type": "stream",
     "text": [
      "/Users/suzukikenta/.pyenv/versions/3.10.6/envs/Pokemon/lib/python3.10/site-packages/sklearn/utils/validation.py:2739: UserWarning: X does not have valid feature names, but LGBMRegressor was fitted with feature names\n",
      "  warnings.warn(\n"
     ]
    },
    {
     "name": "stdout",
     "output_type": "stream",
     "text": [
      "[LightGBM] [Info] Auto-choosing col-wise multi-threading, the overhead of testing was 0.000485 seconds.\n",
      "You can set `force_col_wise=true` to remove the overhead.\n",
      "[LightGBM] [Info] Total Bins 197\n",
      "[LightGBM] [Info] Number of data points in the train set: 8476, number of used features: 62\n",
      "[LightGBM] [Info] Start training from score 1.002697\n"
     ]
    },
    {
     "name": "stderr",
     "output_type": "stream",
     "text": [
      "/Users/suzukikenta/.pyenv/versions/3.10.6/envs/Pokemon/lib/python3.10/site-packages/sklearn/utils/validation.py:2739: UserWarning: X does not have valid feature names, but LGBMRegressor was fitted with feature names\n",
      "  warnings.warn(\n",
      "/Users/suzukikenta/.pyenv/versions/3.10.6/envs/Pokemon/lib/python3.10/site-packages/sklearn/utils/validation.py:2739: UserWarning: X does not have valid feature names, but LGBMRegressor was fitted with feature names\n",
      "  warnings.warn(\n"
     ]
    },
    {
     "name": "stdout",
     "output_type": "stream",
     "text": [
      "[LightGBM] [Info] Auto-choosing col-wise multi-threading, the overhead of testing was 0.000628 seconds.\n",
      "You can set `force_col_wise=true` to remove the overhead.\n",
      "[LightGBM] [Info] Total Bins 203\n",
      "[LightGBM] [Info] Number of data points in the train set: 8476, number of used features: 65\n",
      "[LightGBM] [Info] Start training from score 1.007777\n",
      "[LightGBM] [Info] Auto-choosing col-wise multi-threading, the overhead of testing was 0.000868 seconds.\n",
      "You can set `force_col_wise=true` to remove the overhead.\n",
      "[LightGBM] [Info] Total Bins 203\n",
      "[LightGBM] [Info] Number of data points in the train set: 8476, number of used features: 65\n",
      "[LightGBM] [Info] Start training from score 1.024740\n"
     ]
    },
    {
     "name": "stderr",
     "output_type": "stream",
     "text": [
      "/Users/suzukikenta/.pyenv/versions/3.10.6/envs/Pokemon/lib/python3.10/site-packages/sklearn/utils/validation.py:2739: UserWarning: X does not have valid feature names, but LGBMRegressor was fitted with feature names\n",
      "  warnings.warn(\n",
      "/Users/suzukikenta/.pyenv/versions/3.10.6/envs/Pokemon/lib/python3.10/site-packages/sklearn/utils/validation.py:2739: UserWarning: X does not have valid feature names, but LGBMRegressor was fitted with feature names\n",
      "  warnings.warn(\n"
     ]
    },
    {
     "name": "stdout",
     "output_type": "stream",
     "text": [
      "[LightGBM] [Info] Auto-choosing col-wise multi-threading, the overhead of testing was 0.000663 seconds.\n",
      "You can set `force_col_wise=true` to remove the overhead.\n",
      "[LightGBM] [Info] Total Bins 201\n",
      "[LightGBM] [Info] Number of data points in the train set: 8476, number of used features: 64\n",
      "[LightGBM] [Info] Start training from score 1.011004\n",
      "[LightGBM] [Info] Auto-choosing col-wise multi-threading, the overhead of testing was 0.000684 seconds.\n",
      "You can set `force_col_wise=true` to remove the overhead.\n",
      "[LightGBM] [Info] Total Bins 197\n",
      "[LightGBM] [Info] Number of data points in the train set: 8476, number of used features: 62\n",
      "[LightGBM] [Info] Start training from score 1.009891\n"
     ]
    },
    {
     "name": "stderr",
     "output_type": "stream",
     "text": [
      "/Users/suzukikenta/.pyenv/versions/3.10.6/envs/Pokemon/lib/python3.10/site-packages/sklearn/utils/validation.py:2739: UserWarning: X does not have valid feature names, but LGBMRegressor was fitted with feature names\n",
      "  warnings.warn(\n",
      "/Users/suzukikenta/.pyenv/versions/3.10.6/envs/Pokemon/lib/python3.10/site-packages/sklearn/utils/validation.py:2739: UserWarning: X does not have valid feature names, but LGBMRegressor was fitted with feature names\n",
      "  warnings.warn(\n",
      "/Users/suzukikenta/.pyenv/versions/3.10.6/envs/Pokemon/lib/python3.10/site-packages/sklearn/utils/validation.py:2739: UserWarning: X does not have valid feature names, but LGBMRegressor was fitted with feature names\n",
      "  warnings.warn(\n"
     ]
    },
    {
     "name": "stdout",
     "output_type": "stream",
     "text": [
      "[LightGBM] [Info] Auto-choosing col-wise multi-threading, the overhead of testing was 0.000773 seconds.\n",
      "You can set `force_col_wise=true` to remove the overhead.\n",
      "[LightGBM] [Info] Total Bins 197\n",
      "[LightGBM] [Info] Number of data points in the train set: 8476, number of used features: 62\n",
      "[LightGBM] [Info] Start training from score 1.002697\n",
      "[LightGBM] [Info] Auto-choosing col-wise multi-threading, the overhead of testing was 0.000810 seconds.\n",
      "You can set `force_col_wise=true` to remove the overhead.\n",
      "[LightGBM] [Info] Total Bins 203\n",
      "[LightGBM] [Info] Number of data points in the train set: 8476, number of used features: 65\n",
      "[LightGBM] [Info] Start training from score 1.007777\n",
      "[LightGBM] [Info] Auto-choosing col-wise multi-threading, the overhead of testing was 0.000631 seconds.\n",
      "You can set `force_col_wise=true` to remove the overhead.\n",
      "[LightGBM] [Info] Total Bins 203\n",
      "[LightGBM] [Info] Number of data points in the train set: 8476, number of used features: 65\n",
      "[LightGBM] [Info] Start training from score 1.024740\n"
     ]
    },
    {
     "name": "stderr",
     "output_type": "stream",
     "text": [
      "/Users/suzukikenta/.pyenv/versions/3.10.6/envs/Pokemon/lib/python3.10/site-packages/sklearn/utils/validation.py:2739: UserWarning: X does not have valid feature names, but LGBMRegressor was fitted with feature names\n",
      "  warnings.warn(\n",
      "/Users/suzukikenta/.pyenv/versions/3.10.6/envs/Pokemon/lib/python3.10/site-packages/sklearn/utils/validation.py:2739: UserWarning: X does not have valid feature names, but LGBMRegressor was fitted with feature names\n",
      "  warnings.warn(\n"
     ]
    },
    {
     "name": "stdout",
     "output_type": "stream",
     "text": [
      "[LightGBM] [Info] Auto-choosing row-wise multi-threading, the overhead of testing was 0.000257 seconds.\n",
      "You can set `force_row_wise=true` to remove the overhead.\n",
      "And if memory is not enough, you can set `force_col_wise=true`.\n",
      "[LightGBM] [Info] Total Bins 201\n",
      "[LightGBM] [Info] Number of data points in the train set: 8476, number of used features: 64\n",
      "[LightGBM] [Info] Start training from score 1.011004\n",
      "[LightGBM] [Info] Auto-choosing col-wise multi-threading, the overhead of testing was 0.000648 seconds.\n",
      "You can set `force_col_wise=true` to remove the overhead.\n",
      "[LightGBM] [Info] Total Bins 197\n",
      "[LightGBM] [Info] Number of data points in the train set: 8476, number of used features: 62\n",
      "[LightGBM] [Info] Start training from score 1.009891\n"
     ]
    },
    {
     "name": "stderr",
     "output_type": "stream",
     "text": [
      "/Users/suzukikenta/.pyenv/versions/3.10.6/envs/Pokemon/lib/python3.10/site-packages/sklearn/utils/validation.py:2739: UserWarning: X does not have valid feature names, but LGBMRegressor was fitted with feature names\n",
      "  warnings.warn(\n"
     ]
    },
    {
     "name": "stdout",
     "output_type": "stream",
     "text": [
      "[LightGBM] [Info] Auto-choosing col-wise multi-threading, the overhead of testing was 0.000571 seconds.\n",
      "You can set `force_col_wise=true` to remove the overhead.\n",
      "[LightGBM] [Info] Total Bins 197\n",
      "[LightGBM] [Info] Number of data points in the train set: 8476, number of used features: 62\n",
      "[LightGBM] [Info] Start training from score 1.002697\n"
     ]
    },
    {
     "name": "stderr",
     "output_type": "stream",
     "text": [
      "/Users/suzukikenta/.pyenv/versions/3.10.6/envs/Pokemon/lib/python3.10/site-packages/sklearn/utils/validation.py:2739: UserWarning: X does not have valid feature names, but LGBMRegressor was fitted with feature names\n",
      "  warnings.warn(\n",
      "/Users/suzukikenta/.pyenv/versions/3.10.6/envs/Pokemon/lib/python3.10/site-packages/sklearn/utils/validation.py:2739: UserWarning: X does not have valid feature names, but LGBMRegressor was fitted with feature names\n",
      "  warnings.warn(\n"
     ]
    },
    {
     "name": "stdout",
     "output_type": "stream",
     "text": [
      "[LightGBM] [Info] Auto-choosing col-wise multi-threading, the overhead of testing was 0.000846 seconds.\n",
      "You can set `force_col_wise=true` to remove the overhead.\n",
      "[LightGBM] [Info] Total Bins 203\n",
      "[LightGBM] [Info] Number of data points in the train set: 8476, number of used features: 65\n",
      "[LightGBM] [Info] Start training from score 1.007777\n"
     ]
    },
    {
     "name": "stderr",
     "output_type": "stream",
     "text": [
      "/Users/suzukikenta/.pyenv/versions/3.10.6/envs/Pokemon/lib/python3.10/site-packages/sklearn/utils/validation.py:2739: UserWarning: X does not have valid feature names, but LGBMRegressor was fitted with feature names\n",
      "  warnings.warn(\n",
      "/Users/suzukikenta/.pyenv/versions/3.10.6/envs/Pokemon/lib/python3.10/site-packages/sklearn/utils/validation.py:2739: UserWarning: X does not have valid feature names, but LGBMRegressor was fitted with feature names\n",
      "  warnings.warn(\n",
      "/Users/suzukikenta/.pyenv/versions/3.10.6/envs/Pokemon/lib/python3.10/site-packages/sklearn/model_selection/_validation.py:528: FitFailedWarning: \n",
      "10 fits failed out of a total of 255.\n",
      "The score on these train-test partitions for these parameters will be set to nan.\n",
      "If these failures are not expected, you can try to debug them by setting error_score='raise'.\n",
      "\n",
      "Below are more details about the failures:\n",
      "--------------------------------------------------------------------------------\n",
      "10 fits failed with the following error:\n",
      "Traceback (most recent call last):\n",
      "  File \"/Users/suzukikenta/.pyenv/versions/3.10.6/envs/Pokemon/lib/python3.10/site-packages/sklearn/model_selection/_validation.py\", line 866, in _fit_and_score\n",
      "    estimator.fit(X_train, y_train, **fit_params)\n",
      "  File \"/Users/suzukikenta/.pyenv/versions/3.10.6/envs/Pokemon/lib/python3.10/site-packages/sklearn/base.py\", line 1389, in wrapper\n",
      "    return fit_method(estimator, *args, **kwargs)\n",
      "  File \"/Users/suzukikenta/.pyenv/versions/3.10.6/envs/Pokemon/lib/python3.10/site-packages/sklearn/pipeline.py\", line 662, in fit\n",
      "    self._final_estimator.fit(Xt, y, **last_step_params[\"fit\"])\n",
      "  File \"/Users/suzukikenta/.pyenv/versions/3.10.6/envs/Pokemon/lib/python3.10/site-packages/sklearn/base.py\", line 1389, in wrapper\n",
      "    return fit_method(estimator, *args, **kwargs)\n",
      "  File \"/Users/suzukikenta/.pyenv/versions/3.10.6/envs/Pokemon/lib/python3.10/site-packages/sklearn/ensemble/_hist_gradient_boosting/gradient_boosting.py\", line 538, in fit\n",
      "    X, known_categories = self._preprocess_X(X, reset=True)\n",
      "  File \"/Users/suzukikenta/.pyenv/versions/3.10.6/envs/Pokemon/lib/python3.10/site-packages/sklearn/ensemble/_hist_gradient_boosting/gradient_boosting.py\", line 274, in _preprocess_X\n",
      "    X = validate_data(self, X, **check_X_kwargs)\n",
      "  File \"/Users/suzukikenta/.pyenv/versions/3.10.6/envs/Pokemon/lib/python3.10/site-packages/sklearn/utils/validation.py\", line 2944, in validate_data\n",
      "    out = check_array(X, input_name=\"X\", **check_params)\n",
      "  File \"/Users/suzukikenta/.pyenv/versions/3.10.6/envs/Pokemon/lib/python3.10/site-packages/sklearn/utils/validation.py\", line 1014, in check_array\n",
      "    array = _ensure_sparse_format(\n",
      "  File \"/Users/suzukikenta/.pyenv/versions/3.10.6/envs/Pokemon/lib/python3.10/site-packages/sklearn/utils/validation.py\", line 613, in _ensure_sparse_format\n",
      "    raise TypeError(\n",
      "TypeError: Sparse data was passed for X, but dense data is required. Use '.toarray()' to convert to a dense numpy array.\n",
      "\n",
      "  warnings.warn(some_fits_failed_message, FitFailedWarning)\n",
      "/Users/suzukikenta/.pyenv/versions/3.10.6/envs/Pokemon/lib/python3.10/site-packages/sklearn/model_selection/_search.py:1108: UserWarning: One or more of the test scores are non-finite: [ 0.63250803  0.63251777  0.63254294  0.63227612  0.62350696  0.53718856\n",
      "  0.31823538  0.08664466  0.57279767  0.55697929  0.54292764  0.43656558\n",
      "  0.35602694  0.31912333  0.28134571  0.23680844  0.16180836  0.68443307\n",
      "  0.68542228  0.69318216  0.6942365   0.58344469  0.65196245  0.65541088\n",
      "  0.69149319         nan         nan  0.09008409 -0.02293849  0.5880969\n",
      "  0.61117633  0.59795344  0.69046623  0.59816261  0.69766924  0.64044385\n",
      "  0.6649497   0.67615066  0.54127929  0.5680875   0.66093416 -0.00093578\n",
      " -0.18655368  0.69007555  0.71969475  0.72052431  0.72853583  0.68893555\n",
      "  0.71702138  0.71744656  0.72710227]\n",
      "  warnings.warn(\n"
     ]
    },
    {
     "data": {
      "text/html": [
       "<style>#sk-container-id-1 {\n",
       "  /* Definition of color scheme common for light and dark mode */\n",
       "  --sklearn-color-text: #000;\n",
       "  --sklearn-color-text-muted: #666;\n",
       "  --sklearn-color-line: gray;\n",
       "  /* Definition of color scheme for unfitted estimators */\n",
       "  --sklearn-color-unfitted-level-0: #fff5e6;\n",
       "  --sklearn-color-unfitted-level-1: #f6e4d2;\n",
       "  --sklearn-color-unfitted-level-2: #ffe0b3;\n",
       "  --sklearn-color-unfitted-level-3: chocolate;\n",
       "  /* Definition of color scheme for fitted estimators */\n",
       "  --sklearn-color-fitted-level-0: #f0f8ff;\n",
       "  --sklearn-color-fitted-level-1: #d4ebff;\n",
       "  --sklearn-color-fitted-level-2: #b3dbfd;\n",
       "  --sklearn-color-fitted-level-3: cornflowerblue;\n",
       "\n",
       "  /* Specific color for light theme */\n",
       "  --sklearn-color-text-on-default-background: var(--sg-text-color, var(--theme-code-foreground, var(--jp-content-font-color1, black)));\n",
       "  --sklearn-color-background: var(--sg-background-color, var(--theme-background, var(--jp-layout-color0, white)));\n",
       "  --sklearn-color-border-box: var(--sg-text-color, var(--theme-code-foreground, var(--jp-content-font-color1, black)));\n",
       "  --sklearn-color-icon: #696969;\n",
       "\n",
       "  @media (prefers-color-scheme: dark) {\n",
       "    /* Redefinition of color scheme for dark theme */\n",
       "    --sklearn-color-text-on-default-background: var(--sg-text-color, var(--theme-code-foreground, var(--jp-content-font-color1, white)));\n",
       "    --sklearn-color-background: var(--sg-background-color, var(--theme-background, var(--jp-layout-color0, #111)));\n",
       "    --sklearn-color-border-box: var(--sg-text-color, var(--theme-code-foreground, var(--jp-content-font-color1, white)));\n",
       "    --sklearn-color-icon: #878787;\n",
       "  }\n",
       "}\n",
       "\n",
       "#sk-container-id-1 {\n",
       "  color: var(--sklearn-color-text);\n",
       "}\n",
       "\n",
       "#sk-container-id-1 pre {\n",
       "  padding: 0;\n",
       "}\n",
       "\n",
       "#sk-container-id-1 input.sk-hidden--visually {\n",
       "  border: 0;\n",
       "  clip: rect(1px 1px 1px 1px);\n",
       "  clip: rect(1px, 1px, 1px, 1px);\n",
       "  height: 1px;\n",
       "  margin: -1px;\n",
       "  overflow: hidden;\n",
       "  padding: 0;\n",
       "  position: absolute;\n",
       "  width: 1px;\n",
       "}\n",
       "\n",
       "#sk-container-id-1 div.sk-dashed-wrapped {\n",
       "  border: 1px dashed var(--sklearn-color-line);\n",
       "  margin: 0 0.4em 0.5em 0.4em;\n",
       "  box-sizing: border-box;\n",
       "  padding-bottom: 0.4em;\n",
       "  background-color: var(--sklearn-color-background);\n",
       "}\n",
       "\n",
       "#sk-container-id-1 div.sk-container {\n",
       "  /* jupyter's `normalize.less` sets `[hidden] { display: none; }`\n",
       "     but bootstrap.min.css set `[hidden] { display: none !important; }`\n",
       "     so we also need the `!important` here to be able to override the\n",
       "     default hidden behavior on the sphinx rendered scikit-learn.org.\n",
       "     See: https://github.com/scikit-learn/scikit-learn/issues/21755 */\n",
       "  display: inline-block !important;\n",
       "  position: relative;\n",
       "}\n",
       "\n",
       "#sk-container-id-1 div.sk-text-repr-fallback {\n",
       "  display: none;\n",
       "}\n",
       "\n",
       "div.sk-parallel-item,\n",
       "div.sk-serial,\n",
       "div.sk-item {\n",
       "  /* draw centered vertical line to link estimators */\n",
       "  background-image: linear-gradient(var(--sklearn-color-text-on-default-background), var(--sklearn-color-text-on-default-background));\n",
       "  background-size: 2px 100%;\n",
       "  background-repeat: no-repeat;\n",
       "  background-position: center center;\n",
       "}\n",
       "\n",
       "/* Parallel-specific style estimator block */\n",
       "\n",
       "#sk-container-id-1 div.sk-parallel-item::after {\n",
       "  content: \"\";\n",
       "  width: 100%;\n",
       "  border-bottom: 2px solid var(--sklearn-color-text-on-default-background);\n",
       "  flex-grow: 1;\n",
       "}\n",
       "\n",
       "#sk-container-id-1 div.sk-parallel {\n",
       "  display: flex;\n",
       "  align-items: stretch;\n",
       "  justify-content: center;\n",
       "  background-color: var(--sklearn-color-background);\n",
       "  position: relative;\n",
       "}\n",
       "\n",
       "#sk-container-id-1 div.sk-parallel-item {\n",
       "  display: flex;\n",
       "  flex-direction: column;\n",
       "}\n",
       "\n",
       "#sk-container-id-1 div.sk-parallel-item:first-child::after {\n",
       "  align-self: flex-end;\n",
       "  width: 50%;\n",
       "}\n",
       "\n",
       "#sk-container-id-1 div.sk-parallel-item:last-child::after {\n",
       "  align-self: flex-start;\n",
       "  width: 50%;\n",
       "}\n",
       "\n",
       "#sk-container-id-1 div.sk-parallel-item:only-child::after {\n",
       "  width: 0;\n",
       "}\n",
       "\n",
       "/* Serial-specific style estimator block */\n",
       "\n",
       "#sk-container-id-1 div.sk-serial {\n",
       "  display: flex;\n",
       "  flex-direction: column;\n",
       "  align-items: center;\n",
       "  background-color: var(--sklearn-color-background);\n",
       "  padding-right: 1em;\n",
       "  padding-left: 1em;\n",
       "}\n",
       "\n",
       "\n",
       "/* Toggleable style: style used for estimator/Pipeline/ColumnTransformer box that is\n",
       "clickable and can be expanded/collapsed.\n",
       "- Pipeline and ColumnTransformer use this feature and define the default style\n",
       "- Estimators will overwrite some part of the style using the `sk-estimator` class\n",
       "*/\n",
       "\n",
       "/* Pipeline and ColumnTransformer style (default) */\n",
       "\n",
       "#sk-container-id-1 div.sk-toggleable {\n",
       "  /* Default theme specific background. It is overwritten whether we have a\n",
       "  specific estimator or a Pipeline/ColumnTransformer */\n",
       "  background-color: var(--sklearn-color-background);\n",
       "}\n",
       "\n",
       "/* Toggleable label */\n",
       "#sk-container-id-1 label.sk-toggleable__label {\n",
       "  cursor: pointer;\n",
       "  display: flex;\n",
       "  width: 100%;\n",
       "  margin-bottom: 0;\n",
       "  padding: 0.5em;\n",
       "  box-sizing: border-box;\n",
       "  text-align: center;\n",
       "  align-items: start;\n",
       "  justify-content: space-between;\n",
       "  gap: 0.5em;\n",
       "}\n",
       "\n",
       "#sk-container-id-1 label.sk-toggleable__label .caption {\n",
       "  font-size: 0.6rem;\n",
       "  font-weight: lighter;\n",
       "  color: var(--sklearn-color-text-muted);\n",
       "}\n",
       "\n",
       "#sk-container-id-1 label.sk-toggleable__label-arrow:before {\n",
       "  /* Arrow on the left of the label */\n",
       "  content: \"▸\";\n",
       "  float: left;\n",
       "  margin-right: 0.25em;\n",
       "  color: var(--sklearn-color-icon);\n",
       "}\n",
       "\n",
       "#sk-container-id-1 label.sk-toggleable__label-arrow:hover:before {\n",
       "  color: var(--sklearn-color-text);\n",
       "}\n",
       "\n",
       "/* Toggleable content - dropdown */\n",
       "\n",
       "#sk-container-id-1 div.sk-toggleable__content {\n",
       "  max-height: 0;\n",
       "  max-width: 0;\n",
       "  overflow: hidden;\n",
       "  text-align: left;\n",
       "  /* unfitted */\n",
       "  background-color: var(--sklearn-color-unfitted-level-0);\n",
       "}\n",
       "\n",
       "#sk-container-id-1 div.sk-toggleable__content.fitted {\n",
       "  /* fitted */\n",
       "  background-color: var(--sklearn-color-fitted-level-0);\n",
       "}\n",
       "\n",
       "#sk-container-id-1 div.sk-toggleable__content pre {\n",
       "  margin: 0.2em;\n",
       "  border-radius: 0.25em;\n",
       "  color: var(--sklearn-color-text);\n",
       "  /* unfitted */\n",
       "  background-color: var(--sklearn-color-unfitted-level-0);\n",
       "}\n",
       "\n",
       "#sk-container-id-1 div.sk-toggleable__content.fitted pre {\n",
       "  /* unfitted */\n",
       "  background-color: var(--sklearn-color-fitted-level-0);\n",
       "}\n",
       "\n",
       "#sk-container-id-1 input.sk-toggleable__control:checked~div.sk-toggleable__content {\n",
       "  /* Expand drop-down */\n",
       "  max-height: 200px;\n",
       "  max-width: 100%;\n",
       "  overflow: auto;\n",
       "}\n",
       "\n",
       "#sk-container-id-1 input.sk-toggleable__control:checked~label.sk-toggleable__label-arrow:before {\n",
       "  content: \"▾\";\n",
       "}\n",
       "\n",
       "/* Pipeline/ColumnTransformer-specific style */\n",
       "\n",
       "#sk-container-id-1 div.sk-label input.sk-toggleable__control:checked~label.sk-toggleable__label {\n",
       "  color: var(--sklearn-color-text);\n",
       "  background-color: var(--sklearn-color-unfitted-level-2);\n",
       "}\n",
       "\n",
       "#sk-container-id-1 div.sk-label.fitted input.sk-toggleable__control:checked~label.sk-toggleable__label {\n",
       "  background-color: var(--sklearn-color-fitted-level-2);\n",
       "}\n",
       "\n",
       "/* Estimator-specific style */\n",
       "\n",
       "/* Colorize estimator box */\n",
       "#sk-container-id-1 div.sk-estimator input.sk-toggleable__control:checked~label.sk-toggleable__label {\n",
       "  /* unfitted */\n",
       "  background-color: var(--sklearn-color-unfitted-level-2);\n",
       "}\n",
       "\n",
       "#sk-container-id-1 div.sk-estimator.fitted input.sk-toggleable__control:checked~label.sk-toggleable__label {\n",
       "  /* fitted */\n",
       "  background-color: var(--sklearn-color-fitted-level-2);\n",
       "}\n",
       "\n",
       "#sk-container-id-1 div.sk-label label.sk-toggleable__label,\n",
       "#sk-container-id-1 div.sk-label label {\n",
       "  /* The background is the default theme color */\n",
       "  color: var(--sklearn-color-text-on-default-background);\n",
       "}\n",
       "\n",
       "/* On hover, darken the color of the background */\n",
       "#sk-container-id-1 div.sk-label:hover label.sk-toggleable__label {\n",
       "  color: var(--sklearn-color-text);\n",
       "  background-color: var(--sklearn-color-unfitted-level-2);\n",
       "}\n",
       "\n",
       "/* Label box, darken color on hover, fitted */\n",
       "#sk-container-id-1 div.sk-label.fitted:hover label.sk-toggleable__label.fitted {\n",
       "  color: var(--sklearn-color-text);\n",
       "  background-color: var(--sklearn-color-fitted-level-2);\n",
       "}\n",
       "\n",
       "/* Estimator label */\n",
       "\n",
       "#sk-container-id-1 div.sk-label label {\n",
       "  font-family: monospace;\n",
       "  font-weight: bold;\n",
       "  display: inline-block;\n",
       "  line-height: 1.2em;\n",
       "}\n",
       "\n",
       "#sk-container-id-1 div.sk-label-container {\n",
       "  text-align: center;\n",
       "}\n",
       "\n",
       "/* Estimator-specific */\n",
       "#sk-container-id-1 div.sk-estimator {\n",
       "  font-family: monospace;\n",
       "  border: 1px dotted var(--sklearn-color-border-box);\n",
       "  border-radius: 0.25em;\n",
       "  box-sizing: border-box;\n",
       "  margin-bottom: 0.5em;\n",
       "  /* unfitted */\n",
       "  background-color: var(--sklearn-color-unfitted-level-0);\n",
       "}\n",
       "\n",
       "#sk-container-id-1 div.sk-estimator.fitted {\n",
       "  /* fitted */\n",
       "  background-color: var(--sklearn-color-fitted-level-0);\n",
       "}\n",
       "\n",
       "/* on hover */\n",
       "#sk-container-id-1 div.sk-estimator:hover {\n",
       "  /* unfitted */\n",
       "  background-color: var(--sklearn-color-unfitted-level-2);\n",
       "}\n",
       "\n",
       "#sk-container-id-1 div.sk-estimator.fitted:hover {\n",
       "  /* fitted */\n",
       "  background-color: var(--sklearn-color-fitted-level-2);\n",
       "}\n",
       "\n",
       "/* Specification for estimator info (e.g. \"i\" and \"?\") */\n",
       "\n",
       "/* Common style for \"i\" and \"?\" */\n",
       "\n",
       ".sk-estimator-doc-link,\n",
       "a:link.sk-estimator-doc-link,\n",
       "a:visited.sk-estimator-doc-link {\n",
       "  float: right;\n",
       "  font-size: smaller;\n",
       "  line-height: 1em;\n",
       "  font-family: monospace;\n",
       "  background-color: var(--sklearn-color-background);\n",
       "  border-radius: 1em;\n",
       "  height: 1em;\n",
       "  width: 1em;\n",
       "  text-decoration: none !important;\n",
       "  margin-left: 0.5em;\n",
       "  text-align: center;\n",
       "  /* unfitted */\n",
       "  border: var(--sklearn-color-unfitted-level-1) 1pt solid;\n",
       "  color: var(--sklearn-color-unfitted-level-1);\n",
       "}\n",
       "\n",
       ".sk-estimator-doc-link.fitted,\n",
       "a:link.sk-estimator-doc-link.fitted,\n",
       "a:visited.sk-estimator-doc-link.fitted {\n",
       "  /* fitted */\n",
       "  border: var(--sklearn-color-fitted-level-1) 1pt solid;\n",
       "  color: var(--sklearn-color-fitted-level-1);\n",
       "}\n",
       "\n",
       "/* On hover */\n",
       "div.sk-estimator:hover .sk-estimator-doc-link:hover,\n",
       ".sk-estimator-doc-link:hover,\n",
       "div.sk-label-container:hover .sk-estimator-doc-link:hover,\n",
       ".sk-estimator-doc-link:hover {\n",
       "  /* unfitted */\n",
       "  background-color: var(--sklearn-color-unfitted-level-3);\n",
       "  color: var(--sklearn-color-background);\n",
       "  text-decoration: none;\n",
       "}\n",
       "\n",
       "div.sk-estimator.fitted:hover .sk-estimator-doc-link.fitted:hover,\n",
       ".sk-estimator-doc-link.fitted:hover,\n",
       "div.sk-label-container:hover .sk-estimator-doc-link.fitted:hover,\n",
       ".sk-estimator-doc-link.fitted:hover {\n",
       "  /* fitted */\n",
       "  background-color: var(--sklearn-color-fitted-level-3);\n",
       "  color: var(--sklearn-color-background);\n",
       "  text-decoration: none;\n",
       "}\n",
       "\n",
       "/* Span, style for the box shown on hovering the info icon */\n",
       ".sk-estimator-doc-link span {\n",
       "  display: none;\n",
       "  z-index: 9999;\n",
       "  position: relative;\n",
       "  font-weight: normal;\n",
       "  right: .2ex;\n",
       "  padding: .5ex;\n",
       "  margin: .5ex;\n",
       "  width: min-content;\n",
       "  min-width: 20ex;\n",
       "  max-width: 50ex;\n",
       "  color: var(--sklearn-color-text);\n",
       "  box-shadow: 2pt 2pt 4pt #999;\n",
       "  /* unfitted */\n",
       "  background: var(--sklearn-color-unfitted-level-0);\n",
       "  border: .5pt solid var(--sklearn-color-unfitted-level-3);\n",
       "}\n",
       "\n",
       ".sk-estimator-doc-link.fitted span {\n",
       "  /* fitted */\n",
       "  background: var(--sklearn-color-fitted-level-0);\n",
       "  border: var(--sklearn-color-fitted-level-3);\n",
       "}\n",
       "\n",
       ".sk-estimator-doc-link:hover span {\n",
       "  display: block;\n",
       "}\n",
       "\n",
       "/* \"?\"-specific style due to the `<a>` HTML tag */\n",
       "\n",
       "#sk-container-id-1 a.estimator_doc_link {\n",
       "  float: right;\n",
       "  font-size: 1rem;\n",
       "  line-height: 1em;\n",
       "  font-family: monospace;\n",
       "  background-color: var(--sklearn-color-background);\n",
       "  border-radius: 1rem;\n",
       "  height: 1rem;\n",
       "  width: 1rem;\n",
       "  text-decoration: none;\n",
       "  /* unfitted */\n",
       "  color: var(--sklearn-color-unfitted-level-1);\n",
       "  border: var(--sklearn-color-unfitted-level-1) 1pt solid;\n",
       "}\n",
       "\n",
       "#sk-container-id-1 a.estimator_doc_link.fitted {\n",
       "  /* fitted */\n",
       "  border: var(--sklearn-color-fitted-level-1) 1pt solid;\n",
       "  color: var(--sklearn-color-fitted-level-1);\n",
       "}\n",
       "\n",
       "/* On hover */\n",
       "#sk-container-id-1 a.estimator_doc_link:hover {\n",
       "  /* unfitted */\n",
       "  background-color: var(--sklearn-color-unfitted-level-3);\n",
       "  color: var(--sklearn-color-background);\n",
       "  text-decoration: none;\n",
       "}\n",
       "\n",
       "#sk-container-id-1 a.estimator_doc_link.fitted:hover {\n",
       "  /* fitted */\n",
       "  background-color: var(--sklearn-color-fitted-level-3);\n",
       "}\n",
       "</style><div id=\"sk-container-id-1\" class=\"sk-top-container\"><div class=\"sk-text-repr-fallback\"><pre>GridSearchCV(cv=5,\n",
       "             estimator=Pipeline(steps=[(&#x27;preprocessor&#x27;,\n",
       "                                        ColumnTransformer(transformers=[(&#x27;cat&#x27;,\n",
       "                                                                         OneHotEncoder(handle_unknown=&#x27;ignore&#x27;),\n",
       "                                                                         [&#x27;series&#x27;,\n",
       "                                                                          &#x27;generation&#x27;,\n",
       "                                                                          &#x27;single_type&#x27;,\n",
       "                                                                          &#x27;subtypes&#x27;]),\n",
       "                                                                        (&#x27;ord&#x27;,\n",
       "                                                                         OrdinalEncoder(categories=[[&#x27;Common&#x27;,\n",
       "                                                                                                     &#x27;Uncommon&#x27;,\n",
       "                                                                                                     &#x27;Rare&#x27;,\n",
       "                                                                                                     &#x27;Ultra &#x27;\n",
       "                                                                                                     &#x27;Rare&#x27;,\n",
       "                                                                                                     &#x27;VMAX &#x27;\n",
       "                                                                                                     &#x27;Rare&#x27;,\n",
       "                                                                                                     &#x27;Shiny &#x27;\n",
       "                                                                                                     &#x27;Rare&#x27;,\n",
       "                                                                                                     &#x27;Secret &#x27;\n",
       "                                                                                                     &#x27;Rare&#x27;,\n",
       "                                                                                                     &#x27;Elite &#x27;\n",
       "                                                                                                     &#x27;Rare&#x27;,\n",
       "                                                                                                     &#x27;Special &#x27;\n",
       "                                                                                                     &#x27;Rare&#x27;]]),\n",
       "                                                                         [&#x27;rarity_gr...\n",
       "                                                     min_child_weight=None,\n",
       "                                                     missing=nan,\n",
       "                                                     monotone_constraints=None,\n",
       "                                                     multi_strategy=None,\n",
       "                                                     n_estimators=None,\n",
       "                                                     n_jobs=None,\n",
       "                                                     num_parallel_tree=None, ...)],\n",
       "                          &#x27;regressor__learning_rate&#x27;: [0.05, 0.1],\n",
       "                          &#x27;regressor__n_estimators&#x27;: [50, 100]},\n",
       "                         {&#x27;regressor&#x27;: [LGBMRegressor(random_state=42)],\n",
       "                          &#x27;regressor__learning_rate&#x27;: [0.05, 0.1],\n",
       "                          &#x27;regressor__n_estimators&#x27;: [50, 100]}],\n",
       "             scoring=&#x27;r2&#x27;, verbose=1)</pre><b>In a Jupyter environment, please rerun this cell to show the HTML representation or trust the notebook. <br />On GitHub, the HTML representation is unable to render, please try loading this page with nbviewer.org.</b></div><div class=\"sk-container\" hidden><div class=\"sk-item sk-dashed-wrapped\"><div class=\"sk-label-container\"><div class=\"sk-label fitted sk-toggleable\"><input class=\"sk-toggleable__control sk-hidden--visually\" id=\"sk-estimator-id-1\" type=\"checkbox\" ><label for=\"sk-estimator-id-1\" class=\"sk-toggleable__label fitted sk-toggleable__label-arrow\"><div><div>GridSearchCV</div></div><div><a class=\"sk-estimator-doc-link fitted\" rel=\"noreferrer\" target=\"_blank\" href=\"https://scikit-learn.org/1.6/modules/generated/sklearn.model_selection.GridSearchCV.html\">?<span>Documentation for GridSearchCV</span></a><span class=\"sk-estimator-doc-link fitted\">i<span>Fitted</span></span></div></label><div class=\"sk-toggleable__content fitted\"><pre>GridSearchCV(cv=5,\n",
       "             estimator=Pipeline(steps=[(&#x27;preprocessor&#x27;,\n",
       "                                        ColumnTransformer(transformers=[(&#x27;cat&#x27;,\n",
       "                                                                         OneHotEncoder(handle_unknown=&#x27;ignore&#x27;),\n",
       "                                                                         [&#x27;series&#x27;,\n",
       "                                                                          &#x27;generation&#x27;,\n",
       "                                                                          &#x27;single_type&#x27;,\n",
       "                                                                          &#x27;subtypes&#x27;]),\n",
       "                                                                        (&#x27;ord&#x27;,\n",
       "                                                                         OrdinalEncoder(categories=[[&#x27;Common&#x27;,\n",
       "                                                                                                     &#x27;Uncommon&#x27;,\n",
       "                                                                                                     &#x27;Rare&#x27;,\n",
       "                                                                                                     &#x27;Ultra &#x27;\n",
       "                                                                                                     &#x27;Rare&#x27;,\n",
       "                                                                                                     &#x27;VMAX &#x27;\n",
       "                                                                                                     &#x27;Rare&#x27;,\n",
       "                                                                                                     &#x27;Shiny &#x27;\n",
       "                                                                                                     &#x27;Rare&#x27;,\n",
       "                                                                                                     &#x27;Secret &#x27;\n",
       "                                                                                                     &#x27;Rare&#x27;,\n",
       "                                                                                                     &#x27;Elite &#x27;\n",
       "                                                                                                     &#x27;Rare&#x27;,\n",
       "                                                                                                     &#x27;Special &#x27;\n",
       "                                                                                                     &#x27;Rare&#x27;]]),\n",
       "                                                                         [&#x27;rarity_gr...\n",
       "                                                     min_child_weight=None,\n",
       "                                                     missing=nan,\n",
       "                                                     monotone_constraints=None,\n",
       "                                                     multi_strategy=None,\n",
       "                                                     n_estimators=None,\n",
       "                                                     n_jobs=None,\n",
       "                                                     num_parallel_tree=None, ...)],\n",
       "                          &#x27;regressor__learning_rate&#x27;: [0.05, 0.1],\n",
       "                          &#x27;regressor__n_estimators&#x27;: [50, 100]},\n",
       "                         {&#x27;regressor&#x27;: [LGBMRegressor(random_state=42)],\n",
       "                          &#x27;regressor__learning_rate&#x27;: [0.05, 0.1],\n",
       "                          &#x27;regressor__n_estimators&#x27;: [50, 100]}],\n",
       "             scoring=&#x27;r2&#x27;, verbose=1)</pre></div> </div></div><div class=\"sk-parallel\"><div class=\"sk-parallel-item\"><div class=\"sk-item\"><div class=\"sk-label-container\"><div class=\"sk-label fitted sk-toggleable\"><input class=\"sk-toggleable__control sk-hidden--visually\" id=\"sk-estimator-id-2\" type=\"checkbox\" ><label for=\"sk-estimator-id-2\" class=\"sk-toggleable__label fitted sk-toggleable__label-arrow\"><div><div>best_estimator_: Pipeline</div></div></label><div class=\"sk-toggleable__content fitted\"><pre>Pipeline(steps=[(&#x27;preprocessor&#x27;,\n",
       "                 ColumnTransformer(transformers=[(&#x27;cat&#x27;,\n",
       "                                                  OneHotEncoder(handle_unknown=&#x27;ignore&#x27;),\n",
       "                                                  [&#x27;series&#x27;, &#x27;generation&#x27;,\n",
       "                                                   &#x27;single_type&#x27;, &#x27;subtypes&#x27;]),\n",
       "                                                 (&#x27;ord&#x27;,\n",
       "                                                  OrdinalEncoder(categories=[[&#x27;Common&#x27;,\n",
       "                                                                              &#x27;Uncommon&#x27;,\n",
       "                                                                              &#x27;Rare&#x27;,\n",
       "                                                                              &#x27;Ultra &#x27;\n",
       "                                                                              &#x27;Rare&#x27;,\n",
       "                                                                              &#x27;VMAX &#x27;\n",
       "                                                                              &#x27;Rare&#x27;,\n",
       "                                                                              &#x27;Shiny &#x27;\n",
       "                                                                              &#x27;Rare&#x27;,\n",
       "                                                                              &#x27;Secret &#x27;\n",
       "                                                                              &#x27;Rare&#x27;,\n",
       "                                                                              &#x27;Elite &#x27;\n",
       "                                                                              &#x27;Rare&#x27;,\n",
       "                                                                              &#x27;Special &#x27;\n",
       "                                                                              &#x27;Rare&#x27;]]),\n",
       "                                                  [&#x27;rarity_grouped&#x27;]),\n",
       "                                                 (&#x27;num&#x27;, StandardScal...\n",
       "                              feature_types=None, feature_weights=None,\n",
       "                              gamma=None, grow_policy=None,\n",
       "                              importance_type=None,\n",
       "                              interaction_constraints=None, learning_rate=0.1,\n",
       "                              max_bin=None, max_cat_threshold=None,\n",
       "                              max_cat_to_onehot=None, max_delta_step=None,\n",
       "                              max_depth=None, max_leaves=None,\n",
       "                              min_child_weight=None, missing=nan,\n",
       "                              monotone_constraints=None, multi_strategy=None,\n",
       "                              n_estimators=100, n_jobs=None,\n",
       "                              num_parallel_tree=None, ...))])</pre></div> </div></div><div class=\"sk-serial\"><div class=\"sk-item\"><div class=\"sk-serial\"><div class=\"sk-item sk-dashed-wrapped\"><div class=\"sk-label-container\"><div class=\"sk-label fitted sk-toggleable\"><input class=\"sk-toggleable__control sk-hidden--visually\" id=\"sk-estimator-id-3\" type=\"checkbox\" ><label for=\"sk-estimator-id-3\" class=\"sk-toggleable__label fitted sk-toggleable__label-arrow\"><div><div>preprocessor: ColumnTransformer</div></div><div><a class=\"sk-estimator-doc-link fitted\" rel=\"noreferrer\" target=\"_blank\" href=\"https://scikit-learn.org/1.6/modules/generated/sklearn.compose.ColumnTransformer.html\">?<span>Documentation for preprocessor: ColumnTransformer</span></a></div></label><div class=\"sk-toggleable__content fitted\"><pre>ColumnTransformer(transformers=[(&#x27;cat&#x27;, OneHotEncoder(handle_unknown=&#x27;ignore&#x27;),\n",
       "                                 [&#x27;series&#x27;, &#x27;generation&#x27;, &#x27;single_type&#x27;,\n",
       "                                  &#x27;subtypes&#x27;]),\n",
       "                                (&#x27;ord&#x27;,\n",
       "                                 OrdinalEncoder(categories=[[&#x27;Common&#x27;,\n",
       "                                                             &#x27;Uncommon&#x27;, &#x27;Rare&#x27;,\n",
       "                                                             &#x27;Ultra Rare&#x27;,\n",
       "                                                             &#x27;VMAX Rare&#x27;,\n",
       "                                                             &#x27;Shiny Rare&#x27;,\n",
       "                                                             &#x27;Secret Rare&#x27;,\n",
       "                                                             &#x27;Elite Rare&#x27;,\n",
       "                                                             &#x27;Special Rare&#x27;]]),\n",
       "                                 [&#x27;rarity_grouped&#x27;]),\n",
       "                                (&#x27;num&#x27;, StandardScaler(),\n",
       "                                 [&#x27;hp&#x27;, &#x27;name_counts&#x27;])])</pre></div> </div></div><div class=\"sk-parallel\"><div class=\"sk-parallel-item\"><div class=\"sk-item\"><div class=\"sk-label-container\"><div class=\"sk-label fitted sk-toggleable\"><input class=\"sk-toggleable__control sk-hidden--visually\" id=\"sk-estimator-id-4\" type=\"checkbox\" ><label for=\"sk-estimator-id-4\" class=\"sk-toggleable__label fitted sk-toggleable__label-arrow\"><div><div>cat</div></div></label><div class=\"sk-toggleable__content fitted\"><pre>[&#x27;series&#x27;, &#x27;generation&#x27;, &#x27;single_type&#x27;, &#x27;subtypes&#x27;]</pre></div> </div></div><div class=\"sk-serial\"><div class=\"sk-item\"><div class=\"sk-estimator fitted sk-toggleable\"><input class=\"sk-toggleable__control sk-hidden--visually\" id=\"sk-estimator-id-5\" type=\"checkbox\" ><label for=\"sk-estimator-id-5\" class=\"sk-toggleable__label fitted sk-toggleable__label-arrow\"><div><div>OneHotEncoder</div></div><div><a class=\"sk-estimator-doc-link fitted\" rel=\"noreferrer\" target=\"_blank\" href=\"https://scikit-learn.org/1.6/modules/generated/sklearn.preprocessing.OneHotEncoder.html\">?<span>Documentation for OneHotEncoder</span></a></div></label><div class=\"sk-toggleable__content fitted\"><pre>OneHotEncoder(handle_unknown=&#x27;ignore&#x27;)</pre></div> </div></div></div></div></div><div class=\"sk-parallel-item\"><div class=\"sk-item\"><div class=\"sk-label-container\"><div class=\"sk-label fitted sk-toggleable\"><input class=\"sk-toggleable__control sk-hidden--visually\" id=\"sk-estimator-id-6\" type=\"checkbox\" ><label for=\"sk-estimator-id-6\" class=\"sk-toggleable__label fitted sk-toggleable__label-arrow\"><div><div>ord</div></div></label><div class=\"sk-toggleable__content fitted\"><pre>[&#x27;rarity_grouped&#x27;]</pre></div> </div></div><div class=\"sk-serial\"><div class=\"sk-item\"><div class=\"sk-estimator fitted sk-toggleable\"><input class=\"sk-toggleable__control sk-hidden--visually\" id=\"sk-estimator-id-7\" type=\"checkbox\" ><label for=\"sk-estimator-id-7\" class=\"sk-toggleable__label fitted sk-toggleable__label-arrow\"><div><div>OrdinalEncoder</div></div><div><a class=\"sk-estimator-doc-link fitted\" rel=\"noreferrer\" target=\"_blank\" href=\"https://scikit-learn.org/1.6/modules/generated/sklearn.preprocessing.OrdinalEncoder.html\">?<span>Documentation for OrdinalEncoder</span></a></div></label><div class=\"sk-toggleable__content fitted\"><pre>OrdinalEncoder(categories=[[&#x27;Common&#x27;, &#x27;Uncommon&#x27;, &#x27;Rare&#x27;, &#x27;Ultra Rare&#x27;,\n",
       "                            &#x27;VMAX Rare&#x27;, &#x27;Shiny Rare&#x27;, &#x27;Secret Rare&#x27;,\n",
       "                            &#x27;Elite Rare&#x27;, &#x27;Special Rare&#x27;]])</pre></div> </div></div></div></div></div><div class=\"sk-parallel-item\"><div class=\"sk-item\"><div class=\"sk-label-container\"><div class=\"sk-label fitted sk-toggleable\"><input class=\"sk-toggleable__control sk-hidden--visually\" id=\"sk-estimator-id-8\" type=\"checkbox\" ><label for=\"sk-estimator-id-8\" class=\"sk-toggleable__label fitted sk-toggleable__label-arrow\"><div><div>num</div></div></label><div class=\"sk-toggleable__content fitted\"><pre>[&#x27;hp&#x27;, &#x27;name_counts&#x27;]</pre></div> </div></div><div class=\"sk-serial\"><div class=\"sk-item\"><div class=\"sk-estimator fitted sk-toggleable\"><input class=\"sk-toggleable__control sk-hidden--visually\" id=\"sk-estimator-id-9\" type=\"checkbox\" ><label for=\"sk-estimator-id-9\" class=\"sk-toggleable__label fitted sk-toggleable__label-arrow\"><div><div>StandardScaler</div></div><div><a class=\"sk-estimator-doc-link fitted\" rel=\"noreferrer\" target=\"_blank\" href=\"https://scikit-learn.org/1.6/modules/generated/sklearn.preprocessing.StandardScaler.html\">?<span>Documentation for StandardScaler</span></a></div></label><div class=\"sk-toggleable__content fitted\"><pre>StandardScaler()</pre></div> </div></div></div></div></div></div></div><div class=\"sk-item\"><div class=\"sk-estimator fitted sk-toggleable\"><input class=\"sk-toggleable__control sk-hidden--visually\" id=\"sk-estimator-id-10\" type=\"checkbox\" ><label for=\"sk-estimator-id-10\" class=\"sk-toggleable__label fitted sk-toggleable__label-arrow\"><div><div>XGBRegressor</div></div><div><a class=\"sk-estimator-doc-link fitted\" rel=\"noreferrer\" target=\"_blank\" href=\"https://xgboost.readthedocs.io/en/release_3.0.0/python/python_api.html#xgboost.XGBRegressor\">?<span>Documentation for XGBRegressor</span></a></div></label><div class=\"sk-toggleable__content fitted\"><pre>XGBRegressor(base_score=None, booster=None, callbacks=None,\n",
       "             colsample_bylevel=None, colsample_bynode=None,\n",
       "             colsample_bytree=None, device=None, early_stopping_rounds=None,\n",
       "             enable_categorical=False, eval_metric=None, feature_types=None,\n",
       "             feature_weights=None, gamma=None, grow_policy=None,\n",
       "             importance_type=None, interaction_constraints=None,\n",
       "             learning_rate=0.1, max_bin=None, max_cat_threshold=None,\n",
       "             max_cat_to_onehot=None, max_delta_step=None, max_depth=None,\n",
       "             max_leaves=None, min_child_weight=None, missing=nan,\n",
       "             monotone_constraints=None, multi_strategy=None, n_estimators=100,\n",
       "             n_jobs=None, num_parallel_tree=None, ...)</pre></div> </div></div></div></div></div></div></div></div></div></div></div>"
      ],
      "text/plain": [
       "GridSearchCV(cv=5,\n",
       "             estimator=Pipeline(steps=[('preprocessor',\n",
       "                                        ColumnTransformer(transformers=[('cat',\n",
       "                                                                         OneHotEncoder(handle_unknown='ignore'),\n",
       "                                                                         ['series',\n",
       "                                                                          'generation',\n",
       "                                                                          'single_type',\n",
       "                                                                          'subtypes']),\n",
       "                                                                        ('ord',\n",
       "                                                                         OrdinalEncoder(categories=[['Common',\n",
       "                                                                                                     'Uncommon',\n",
       "                                                                                                     'Rare',\n",
       "                                                                                                     'Ultra '\n",
       "                                                                                                     'Rare',\n",
       "                                                                                                     'VMAX '\n",
       "                                                                                                     'Rare',\n",
       "                                                                                                     'Shiny '\n",
       "                                                                                                     'Rare',\n",
       "                                                                                                     'Secret '\n",
       "                                                                                                     'Rare',\n",
       "                                                                                                     'Elite '\n",
       "                                                                                                     'Rare',\n",
       "                                                                                                     'Special '\n",
       "                                                                                                     'Rare']]),\n",
       "                                                                         ['rarity_gr...\n",
       "                                                     min_child_weight=None,\n",
       "                                                     missing=nan,\n",
       "                                                     monotone_constraints=None,\n",
       "                                                     multi_strategy=None,\n",
       "                                                     n_estimators=None,\n",
       "                                                     n_jobs=None,\n",
       "                                                     num_parallel_tree=None, ...)],\n",
       "                          'regressor__learning_rate': [0.05, 0.1],\n",
       "                          'regressor__n_estimators': [50, 100]},\n",
       "                         {'regressor': [LGBMRegressor(random_state=42)],\n",
       "                          'regressor__learning_rate': [0.05, 0.1],\n",
       "                          'regressor__n_estimators': [50, 100]}],\n",
       "             scoring='r2', verbose=1)"
      ]
     },
     "execution_count": 166,
     "metadata": {},
     "output_type": "execute_result"
    }
   ],
   "source": [
    "grid_search = GridSearchCV(pipeline, param_grid, cv=5, scoring='r2', n_jobs=-1, verbose=1)\n",
    "grid_search.fit(X_train, y_train.values.ravel())  # Flatten y to 1D if it's a DataFrame"
   ]
  },
  {
   "cell_type": "code",
   "execution_count": 167,
   "id": "66880807",
   "metadata": {},
   "outputs": [
    {
     "name": "stdout",
     "output_type": "stream",
     "text": [
      "Best parameters: {'regressor': XGBRegressor(base_score=None, booster=None, callbacks=None,\n",
      "             colsample_bylevel=None, colsample_bynode=None,\n",
      "             colsample_bytree=None, device=None, early_stopping_rounds=None,\n",
      "             enable_categorical=False, eval_metric=None, feature_types=None,\n",
      "             feature_weights=None, gamma=None, grow_policy=None,\n",
      "             importance_type=None, interaction_constraints=None,\n",
      "             learning_rate=None, max_bin=None, max_cat_threshold=None,\n",
      "             max_cat_to_onehot=None, max_delta_step=None, max_depth=None,\n",
      "             max_leaves=None, min_child_weight=None, missing=nan,\n",
      "             monotone_constraints=None, multi_strategy=None, n_estimators=None,\n",
      "             n_jobs=None, num_parallel_tree=None, ...), 'regressor__learning_rate': 0.1, 'regressor__n_estimators': 100}\n",
      "Best R² score on CV: 0.7285358289185302\n",
      "Test R² score: 0.720102071762085\n"
     ]
    }
   ],
   "source": [
    "print(\"Best parameters:\", grid_search.best_params_)\n",
    "print(\"Best R² score on CV:\", grid_search.best_score_)\n",
    "\n",
    "y_pred = grid_search.predict(X_test)\n",
    "print(\"Test R² score:\", r2_score(y_test, y_pred))"
   ]
  },
  {
   "cell_type": "markdown",
   "id": "d1deafb0",
   "metadata": {},
   "source": [
    "# Save the model"
   ]
  },
  {
   "cell_type": "code",
   "execution_count": 168,
   "id": "e61c2917",
   "metadata": {},
   "outputs": [],
   "source": [
    "# Save the model\n",
    "model = joblib.dump(grid_search.best_estimator_, \"pokemon_price_model.pkl\")"
   ]
  },
  {
   "cell_type": "code",
   "execution_count": 169,
   "id": "8c0977c2",
   "metadata": {},
   "outputs": [],
   "source": [
    "model = joblib.load(\"pokemon_price_model.pkl\")"
   ]
  },
  {
   "cell_type": "markdown",
   "id": "0de52834",
   "metadata": {},
   "source": [
    "# System Analysis"
   ]
  },
  {
   "cell_type": "code",
   "execution_count": 170,
   "id": "966bb7a5",
   "metadata": {},
   "outputs": [],
   "source": [
    "df[\"predicted_price_log\"] = model.predict(df[X])\n",
    "df[\"predicted_price\"] = np.expm1(df[\"predicted_price_log\"])"
   ]
  },
  {
   "cell_type": "code",
   "execution_count": 193,
   "id": "e4e39f33",
   "metadata": {},
   "outputs": [],
   "source": [
    "a=np.log1p(3)"
   ]
  },
  {
   "cell_type": "code",
   "execution_count": 195,
   "id": "4b064c57",
   "metadata": {},
   "outputs": [
    {
     "data": {
      "text/plain": [
       "np.float64(3.0)"
      ]
     },
     "execution_count": 195,
     "metadata": {},
     "output_type": "execute_result"
    }
   ],
   "source": [
    "np.expm1(a)"
   ]
  },
  {
   "cell_type": "code",
   "execution_count": 171,
   "id": "3fa19e1e",
   "metadata": {},
   "outputs": [
    {
     "name": "stdout",
     "output_type": "stream",
     "text": [
      "market_price_sum:135687.47999999998,predicted_price_sum:79134.6328125\n"
     ]
    }
   ],
   "source": [
    "# Understand the price difference\n",
    "print(f'market_price_sum:{df[\"market_price\"].sum()},predicted_price_sum:{df[\"predicted_price\"].sum()}')"
   ]
  },
  {
   "cell_type": "code",
   "execution_count": 172,
   "id": "778ebcb4",
   "metadata": {},
   "outputs": [
    {
     "name": "stdout",
     "output_type": "stream",
     "text": [
      "market_price_sum_log:13182.116299082454,predicted_price_log_sum:13199.19140625\n"
     ]
    }
   ],
   "source": [
    "# Understand the price difference\n",
    "print(f'market_price_sum_log:{df[\"market_price_log\"].sum()},predicted_price_log_sum:{df[\"predicted_price_log\"].sum()}')"
   ]
  },
  {
   "cell_type": "code",
   "execution_count": 173,
   "id": "0d855906",
   "metadata": {},
   "outputs": [
    {
     "data": {
      "image/png": "[encoded data removed]",
      "text/plain": [
       "<Figure size 640x480 with 1 Axes>"
      ]
     },
     "metadata": {},
     "output_type": "display_data"
    }
   ],
   "source": [
    "plt.plot(df[\"market_price_log\"], df[\"predicted_price_log\"], 'o')\n",
    "plt.xlabel(\"Market Price log\")\n",
    "plt.ylabel(\"Predicted Price log\")\n",
    "plt.title(\"Predicted vs Market Price (equal scale)\")\n",
    "plt.grid(True)\n",
    "plt.show()"
   ]
  },
  {
   "cell_type": "code",
   "execution_count": 174,
   "id": "c736d25b",
   "metadata": {},
   "outputs": [
    {
     "data": {
      "image/png": "[encoded data removed]",
      "text/plain": [
       "<Figure size 600x600 with 1 Axes>"
      ]
     },
     "metadata": {},
     "output_type": "display_data"
    }
   ],
   "source": [
    "# predicted vs market price\n",
    "plt.figure(figsize=(6, 6))  # Make sure plot is square\n",
    "plt.plot(df[\"market_price\"], df[\"predicted_price\"], 'o')\n",
    "\n",
    "# Set limits before setting equal aspect\n",
    "plt.xlim(0, 1000)\n",
    "plt.ylim(0, 1000)\n",
    "\n",
    "# Equal aspect ratio (forces scaling, not just limits)\n",
    "plt.gca().set_aspect('equal', adjustable='box')  # This works better than plt.axis('equal')\n",
    "\n",
    "plt.xlabel(\"Market Price\")\n",
    "plt.ylabel(\"Predicted Price\")\n",
    "plt.title(\"Predicted vs Market Price (equal scale)\")\n",
    "plt.grid(True)\n",
    "plt.show()"
   ]
  },
  {
   "cell_type": "code",
   "execution_count": 175,
   "id": "f6d0a46c",
   "metadata": {},
   "outputs": [
    {
     "data": {
      "image/png": "[encoded data removed]",
      "text/plain": [
       "<Figure size 600x600 with 1 Axes>"
      ]
     },
     "metadata": {},
     "output_type": "display_data"
    }
   ],
   "source": [
    "\n",
    "# predicted adjusted vs market price\n",
    "a=df[\"market_price\"].sum()/df[\"predicted_price\"].sum()\n",
    "df[\"predicted_price_adjusted\"] = df[\"predicted_price\"] * a\n",
    "\n",
    "plt.figure(figsize=(6, 6))  # Make sure plot is square\n",
    "plt.plot(df[\"market_price\"], df[\"predicted_price_adjusted\"], 'o')\n",
    "\n",
    "# Set limits before setting equal aspect\n",
    "plt.xlim(0, 1000)\n",
    "plt.ylim(0, 1000)\n",
    "\n",
    "# Equal aspect ratio (forces scaling, not just limits)\n",
    "plt.gca().set_aspect('equal', adjustable='box')  # This works better than plt.axis('equal')\n",
    "\n",
    "plt.xlabel(\"Market Price\")\n",
    "plt.ylabel(\"Predicted adjusted Price\")\n",
    "plt.title(\"Predicted adjusted vs Market Price (equal scale)\")\n",
    "plt.grid(True)\n",
    "plt.show()\n"
   ]
  },
  {
   "cell_type": "code",
   "execution_count": 176,
   "id": "1b80cd8b",
   "metadata": {},
   "outputs": [],
   "source": [
    "df[\"over_or_under_valued_log\"] = np.where(\n",
    "    df[\"predicted_price_log\"] - df[\"market_price_log\"] >= 0,\n",
    "    \"undervalued\",\n",
    "    \"overvalued\"  # You had `else 0`, but usually you'd want to label it\n",
    ")"
   ]
  },
  {
   "cell_type": "code",
   "execution_count": 177,
   "id": "3b477132",
   "metadata": {},
   "outputs": [
    {
     "name": "stdout",
     "output_type": "stream",
     "text": [
      "market_price_sum:135687.47999999998,predicted_price_sum:135687.5\n"
     ]
    }
   ],
   "source": [
    "# Understand the price difference of the adjusted predicted price\n",
    "print(f'market_price_sum:{df[\"market_price\"].sum()},predicted_price_sum:{df[\"predicted_price_adjusted\"].sum()}')"
   ]
  },
  {
   "cell_type": "markdown",
   "id": "15a3ce29",
   "metadata": {},
   "source": [
    "# How the model takes an input(Overvalued or Undervalued?)"
   ]
  },
  {
   "cell_type": "code",
   "execution_count": 178,
   "id": "7e77fa6e",
   "metadata": {},
   "outputs": [
    {
     "data": {
      "text/html": [
       "<div>\n",
       "<style scoped>\n",
       "    .dataframe tbody tr th:only-of-type {\n",
       "        vertical-align: middle;\n",
       "    }\n",
       "\n",
       "    .dataframe tbody tr th {\n",
       "        vertical-align: top;\n",
       "    }\n",
       "\n",
       "    .dataframe thead th {\n",
       "        text-align: right;\n",
       "    }\n",
       "</style>\n",
       "<table border=\"1\" class=\"dataframe\">\n",
       "  <thead>\n",
       "    <tr style=\"text-align: right;\">\n",
       "      <th></th>\n",
       "      <th>id</th>\n",
       "      <th>series</th>\n",
       "      <th>generation</th>\n",
       "      <th>single_type</th>\n",
       "      <th>hp</th>\n",
       "      <th>subtypes</th>\n",
       "      <th>convertedRetreatCost</th>\n",
       "      <th>rarity_grouped</th>\n",
       "      <th>market_price</th>\n",
       "      <th>market_price_log</th>\n",
       "      <th>name_counts</th>\n",
       "      <th>predicted_price_log</th>\n",
       "      <th>predicted_price</th>\n",
       "      <th>predicted_price_adjusted</th>\n",
       "      <th>over_or_under_valued_log</th>\n",
       "    </tr>\n",
       "  </thead>\n",
       "  <tbody>\n",
       "    <tr>\n",
       "      <th>6803</th>\n",
       "      <td>bw9-118</td>\n",
       "      <td>Black &amp; White</td>\n",
       "      <td>Fifth</td>\n",
       "      <td>Psychic</td>\n",
       "      <td>90.0</td>\n",
       "      <td>['Basic']</td>\n",
       "      <td>1.0</td>\n",
       "      <td>Secret Rare</td>\n",
       "      <td>52.66</td>\n",
       "      <td>3.982668</td>\n",
       "      <td>11</td>\n",
       "      <td>3.777737</td>\n",
       "      <td>42.717003</td>\n",
       "      <td>73.244324</td>\n",
       "      <td>overvalued</td>\n",
       "    </tr>\n",
       "  </tbody>\n",
       "</table>\n",
       "</div>"
      ],
      "text/plain": [
       "           id         series generation single_type    hp   subtypes  \\\n",
       "6803  bw9-118  Black & White      Fifth     Psychic  90.0  ['Basic']   \n",
       "\n",
       "      convertedRetreatCost rarity_grouped  market_price  market_price_log  \\\n",
       "6803                   1.0    Secret Rare         52.66          3.982668   \n",
       "\n",
       "      name_counts  predicted_price_log  predicted_price  \\\n",
       "6803           11             3.777737        42.717003   \n",
       "\n",
       "      predicted_price_adjusted over_or_under_valued_log  \n",
       "6803                 73.244324               overvalued  "
      ]
     },
     "execution_count": 178,
     "metadata": {},
     "output_type": "execute_result"
    }
   ],
   "source": [
    "# New data just with id\n",
    "new_data = df[df[\"id\"]==\"bw9-118\"]\n",
    "new_data"
   ]
  },
  {
   "cell_type": "code",
   "execution_count": 179,
   "id": "bcc2bac0",
   "metadata": {},
   "outputs": [
    {
     "data": {
      "text/plain": [
       "array([3.7777371], dtype=float32)"
      ]
     },
     "execution_count": 179,
     "metadata": {},
     "output_type": "execute_result"
    }
   ],
   "source": [
    "model.predict(new_data)"
   ]
  },
  {
   "cell_type": "code",
   "execution_count": 180,
   "id": "d4e324d3",
   "metadata": {},
   "outputs": [
    {
     "name": "stdout",
     "output_type": "stream",
     "text": [
      "Overvalued!\n"
     ]
    }
   ],
   "source": [
    "if new_data[\"market_price_log\"].values[0] > model.predict(new_data):\n",
    "    print(\"Overvalued!\")\n",
    "else:\n",
    "    print(\"Undervalued!\")"
   ]
  },
  {
   "cell_type": "markdown",
   "id": "e6ee43a8",
   "metadata": {},
   "source": [
    "# How the model takes an input(Recommendation with Budget)"
   ]
  },
  {
   "cell_type": "code",
   "execution_count": 181,
   "id": "41c3c9d9",
   "metadata": {},
   "outputs": [],
   "source": [
    "df[\"predicted_price_log\"] = model.predict(df[X])\n",
    "df[\"predicted_price\"] = np.expm1(df[\"predicted_price_log\"])"
   ]
  },
  {
   "cell_type": "code",
   "execution_count": 209,
   "id": "58a4f965",
   "metadata": {},
   "outputs": [
    {
     "data": {
      "text/plain": [
       "single_type\n",
       "Water        1971\n",
       "Grass        1816\n",
       "Psychic      1785\n",
       "Colorless    1641\n",
       "Fighting     1493\n",
       "Fire         1189\n",
       "Lightning    1115\n",
       "Darkness      890\n",
       "Metal         727\n",
       "Dragon        402\n",
       "Fairy         215\n",
       "Name: count, dtype: int64"
      ]
     },
     "execution_count": 209,
     "metadata": {},
     "output_type": "execute_result"
    }
   ],
   "source": [
    "df[\"single_type\"].value_counts()"
   ]
  },
  {
   "cell_type": "code",
   "execution_count": 229,
   "id": "71d23fea",
   "metadata": {},
   "outputs": [
    {
     "data": {
      "text/html": [
       "<div>\n",
       "<style scoped>\n",
       "    .dataframe tbody tr th:only-of-type {\n",
       "        vertical-align: middle;\n",
       "    }\n",
       "\n",
       "    .dataframe tbody tr th {\n",
       "        vertical-align: top;\n",
       "    }\n",
       "\n",
       "    .dataframe thead th {\n",
       "        text-align: right;\n",
       "    }\n",
       "</style>\n",
       "<table border=\"1\" class=\"dataframe\">\n",
       "  <thead>\n",
       "    <tr style=\"text-align: right;\">\n",
       "      <th></th>\n",
       "      <th>id</th>\n",
       "      <th>series</th>\n",
       "      <th>generation</th>\n",
       "      <th>single_type</th>\n",
       "      <th>hp</th>\n",
       "      <th>subtypes</th>\n",
       "      <th>convertedRetreatCost</th>\n",
       "      <th>rarity_grouped</th>\n",
       "      <th>market_price</th>\n",
       "      <th>market_price_log</th>\n",
       "      <th>name_counts</th>\n",
       "      <th>predicted_price_log</th>\n",
       "      <th>predicted_price</th>\n",
       "      <th>predicted_price_adjusted</th>\n",
       "      <th>over_or_under_valued_log</th>\n",
       "    </tr>\n",
       "  </thead>\n",
       "  <tbody>\n",
       "    <tr>\n",
       "      <th>0</th>\n",
       "      <td>base1-1</td>\n",
       "      <td>Base</td>\n",
       "      <td>First</td>\n",
       "      <td>Psychic</td>\n",
       "      <td>80.0</td>\n",
       "      <td>['Stage 2']</td>\n",
       "      <td>3.0</td>\n",
       "      <td>Rare</td>\n",
       "      <td>133.99</td>\n",
       "      <td>4.905201</td>\n",
       "      <td>8</td>\n",
       "      <td>2.836862</td>\n",
       "      <td>16.062134</td>\n",
       "      <td>27.540792</td>\n",
       "      <td>overvalued</td>\n",
       "    </tr>\n",
       "    <tr>\n",
       "      <th>1</th>\n",
       "      <td>base1-2</td>\n",
       "      <td>Base</td>\n",
       "      <td>First</td>\n",
       "      <td>Water</td>\n",
       "      <td>100.0</td>\n",
       "      <td>['Stage 2']</td>\n",
       "      <td>3.0</td>\n",
       "      <td>Rare</td>\n",
       "      <td>93.95</td>\n",
       "      <td>4.553350</td>\n",
       "      <td>15</td>\n",
       "      <td>3.958473</td>\n",
       "      <td>51.377281</td>\n",
       "      <td>88.093590</td>\n",
       "      <td>overvalued</td>\n",
       "    </tr>\n",
       "    <tr>\n",
       "      <th>2</th>\n",
       "      <td>base1-3</td>\n",
       "      <td>Base</td>\n",
       "      <td>First</td>\n",
       "      <td>Colorless</td>\n",
       "      <td>120.0</td>\n",
       "      <td>['Basic']</td>\n",
       "      <td>1.0</td>\n",
       "      <td>Rare</td>\n",
       "      <td>23.63</td>\n",
       "      <td>3.203965</td>\n",
       "      <td>21</td>\n",
       "      <td>3.027115</td>\n",
       "      <td>19.637604</td>\n",
       "      <td>33.671440</td>\n",
       "      <td>overvalued</td>\n",
       "    </tr>\n",
       "    <tr>\n",
       "      <th>3</th>\n",
       "      <td>base1-4</td>\n",
       "      <td>Base</td>\n",
       "      <td>First</td>\n",
       "      <td>Fire</td>\n",
       "      <td>120.0</td>\n",
       "      <td>['Stage 2']</td>\n",
       "      <td>3.0</td>\n",
       "      <td>Rare</td>\n",
       "      <td>5527.50</td>\n",
       "      <td>8.617672</td>\n",
       "      <td>26</td>\n",
       "      <td>6.138207</td>\n",
       "      <td>462.222260</td>\n",
       "      <td>792.545227</td>\n",
       "      <td>overvalued</td>\n",
       "    </tr>\n",
       "    <tr>\n",
       "      <th>4</th>\n",
       "      <td>base1-5</td>\n",
       "      <td>Base</td>\n",
       "      <td>First</td>\n",
       "      <td>Colorless</td>\n",
       "      <td>40.0</td>\n",
       "      <td>['Basic']</td>\n",
       "      <td>1.0</td>\n",
       "      <td>Rare</td>\n",
       "      <td>23.18</td>\n",
       "      <td>3.185526</td>\n",
       "      <td>27</td>\n",
       "      <td>2.785743</td>\n",
       "      <td>15.211851</td>\n",
       "      <td>26.082863</td>\n",
       "      <td>overvalued</td>\n",
       "    </tr>\n",
       "    <tr>\n",
       "      <th>...</th>\n",
       "      <td>...</td>\n",
       "      <td>...</td>\n",
       "      <td>...</td>\n",
       "      <td>...</td>\n",
       "      <td>...</td>\n",
       "      <td>...</td>\n",
       "      <td>...</td>\n",
       "      <td>...</td>\n",
       "      <td>...</td>\n",
       "      <td>...</td>\n",
       "      <td>...</td>\n",
       "      <td>...</td>\n",
       "      <td>...</td>\n",
       "      <td>...</td>\n",
       "      <td>...</td>\n",
       "    </tr>\n",
       "    <tr>\n",
       "      <th>16930</th>\n",
       "      <td>sv4-251</td>\n",
       "      <td>Scarlet &amp; Violet</td>\n",
       "      <td>Ninth</td>\n",
       "      <td>Darkness</td>\n",
       "      <td>230.0</td>\n",
       "      <td>['Basic', 'ex', 'Ancient']</td>\n",
       "      <td>2.0</td>\n",
       "      <td>Special Rare</td>\n",
       "      <td>48.05</td>\n",
       "      <td>3.892840</td>\n",
       "      <td>4</td>\n",
       "      <td>2.693307</td>\n",
       "      <td>13.780473</td>\n",
       "      <td>23.628563</td>\n",
       "      <td>overvalued</td>\n",
       "    </tr>\n",
       "    <tr>\n",
       "      <th>16931</th>\n",
       "      <td>sv4-252</td>\n",
       "      <td>Scarlet &amp; Violet</td>\n",
       "      <td>Ninth</td>\n",
       "      <td>Metal</td>\n",
       "      <td>260.0</td>\n",
       "      <td>['Stage 1', 'ex']</td>\n",
       "      <td>2.0</td>\n",
       "      <td>Special Rare</td>\n",
       "      <td>24.98</td>\n",
       "      <td>3.257327</td>\n",
       "      <td>3</td>\n",
       "      <td>2.368635</td>\n",
       "      <td>9.682802</td>\n",
       "      <td>16.602530</td>\n",
       "      <td>overvalued</td>\n",
       "    </tr>\n",
       "    <tr>\n",
       "      <th>16932</th>\n",
       "      <td>sv4-253</td>\n",
       "      <td>Scarlet &amp; Violet</td>\n",
       "      <td>Ninth</td>\n",
       "      <td>Dragon</td>\n",
       "      <td>260.0</td>\n",
       "      <td>['Stage 1', 'ex']</td>\n",
       "      <td>1.0</td>\n",
       "      <td>Special Rare</td>\n",
       "      <td>57.79</td>\n",
       "      <td>4.073972</td>\n",
       "      <td>4</td>\n",
       "      <td>3.105178</td>\n",
       "      <td>21.313192</td>\n",
       "      <td>36.544472</td>\n",
       "      <td>overvalued</td>\n",
       "    </tr>\n",
       "    <tr>\n",
       "      <th>16940</th>\n",
       "      <td>sv4-261</td>\n",
       "      <td>Scarlet &amp; Violet</td>\n",
       "      <td>Ninth</td>\n",
       "      <td>Psychic</td>\n",
       "      <td>220.0</td>\n",
       "      <td>['Basic', 'ex', 'Future']</td>\n",
       "      <td>2.0</td>\n",
       "      <td>Special Rare</td>\n",
       "      <td>4.54</td>\n",
       "      <td>1.711995</td>\n",
       "      <td>4</td>\n",
       "      <td>2.486595</td>\n",
       "      <td>11.020276</td>\n",
       "      <td>18.895817</td>\n",
       "      <td>undervalued</td>\n",
       "    </tr>\n",
       "    <tr>\n",
       "      <th>16941</th>\n",
       "      <td>sv4-262</td>\n",
       "      <td>Scarlet &amp; Violet</td>\n",
       "      <td>Ninth</td>\n",
       "      <td>Darkness</td>\n",
       "      <td>230.0</td>\n",
       "      <td>['Basic', 'ex', 'Ancient']</td>\n",
       "      <td>2.0</td>\n",
       "      <td>Special Rare</td>\n",
       "      <td>6.03</td>\n",
       "      <td>1.950187</td>\n",
       "      <td>4</td>\n",
       "      <td>2.693307</td>\n",
       "      <td>13.780473</td>\n",
       "      <td>23.628563</td>\n",
       "      <td>undervalued</td>\n",
       "    </tr>\n",
       "  </tbody>\n",
       "</table>\n",
       "<p>13244 rows × 15 columns</p>\n",
       "</div>"
      ],
      "text/plain": [
       "            id            series generation single_type     hp  \\\n",
       "0      base1-1              Base      First     Psychic   80.0   \n",
       "1      base1-2              Base      First       Water  100.0   \n",
       "2      base1-3              Base      First   Colorless  120.0   \n",
       "3      base1-4              Base      First        Fire  120.0   \n",
       "4      base1-5              Base      First   Colorless   40.0   \n",
       "...        ...               ...        ...         ...    ...   \n",
       "16930  sv4-251  Scarlet & Violet      Ninth    Darkness  230.0   \n",
       "16931  sv4-252  Scarlet & Violet      Ninth       Metal  260.0   \n",
       "16932  sv4-253  Scarlet & Violet      Ninth      Dragon  260.0   \n",
       "16940  sv4-261  Scarlet & Violet      Ninth     Psychic  220.0   \n",
       "16941  sv4-262  Scarlet & Violet      Ninth    Darkness  230.0   \n",
       "\n",
       "                         subtypes  convertedRetreatCost rarity_grouped  \\\n",
       "0                     ['Stage 2']                   3.0           Rare   \n",
       "1                     ['Stage 2']                   3.0           Rare   \n",
       "2                       ['Basic']                   1.0           Rare   \n",
       "3                     ['Stage 2']                   3.0           Rare   \n",
       "4                       ['Basic']                   1.0           Rare   \n",
       "...                           ...                   ...            ...   \n",
       "16930  ['Basic', 'ex', 'Ancient']                   2.0   Special Rare   \n",
       "16931           ['Stage 1', 'ex']                   2.0   Special Rare   \n",
       "16932           ['Stage 1', 'ex']                   1.0   Special Rare   \n",
       "16940   ['Basic', 'ex', 'Future']                   2.0   Special Rare   \n",
       "16941  ['Basic', 'ex', 'Ancient']                   2.0   Special Rare   \n",
       "\n",
       "       market_price  market_price_log  name_counts  predicted_price_log  \\\n",
       "0            133.99          4.905201            8             2.836862   \n",
       "1             93.95          4.553350           15             3.958473   \n",
       "2             23.63          3.203965           21             3.027115   \n",
       "3           5527.50          8.617672           26             6.138207   \n",
       "4             23.18          3.185526           27             2.785743   \n",
       "...             ...               ...          ...                  ...   \n",
       "16930         48.05          3.892840            4             2.693307   \n",
       "16931         24.98          3.257327            3             2.368635   \n",
       "16932         57.79          4.073972            4             3.105178   \n",
       "16940          4.54          1.711995            4             2.486595   \n",
       "16941          6.03          1.950187            4             2.693307   \n",
       "\n",
       "       predicted_price  predicted_price_adjusted over_or_under_valued_log  \n",
       "0            16.062134                 27.540792               overvalued  \n",
       "1            51.377281                 88.093590               overvalued  \n",
       "2            19.637604                 33.671440               overvalued  \n",
       "3           462.222260                792.545227               overvalued  \n",
       "4            15.211851                 26.082863               overvalued  \n",
       "...                ...                       ...                      ...  \n",
       "16930        13.780473                 23.628563               overvalued  \n",
       "16931         9.682802                 16.602530               overvalued  \n",
       "16932        21.313192                 36.544472               overvalued  \n",
       "16940        11.020276                 18.895817              undervalued  \n",
       "16941        13.780473                 23.628563              undervalued  \n",
       "\n",
       "[13244 rows x 15 columns]"
      ]
     },
     "execution_count": 229,
     "metadata": {},
     "output_type": "execute_result"
    }
   ],
   "source": [
    "df"
   ]
  },
  {
   "cell_type": "code",
   "execution_count": 234,
   "id": "38d0fefc",
   "metadata": {},
   "outputs": [
    {
     "name": "stderr",
     "output_type": "stream",
     "text": [
      "/var/folders/tr/pkwjp9qn76v_83kx3jf06q6w0000gn/T/ipykernel_55333/2613102813.py:10: SettingWithCopyWarning: \n",
      "A value is trying to be set on a copy of a slice from a DataFrame.\n",
      "Try using .loc[row_indexer,col_indexer] = value instead\n",
      "\n",
      "See the caveats in the documentation: https://pandas.pydata.org/pandas-docs/stable/user_guide/indexing.html#returning-a-view-versus-a-copy\n",
      "  filtered_df[['set_id', 'card_id']] = filtered_df['id'].str.split('-', expand=True)\n",
      "/var/folders/tr/pkwjp9qn76v_83kx3jf06q6w0000gn/T/ipykernel_55333/2613102813.py:10: SettingWithCopyWarning: \n",
      "A value is trying to be set on a copy of a slice from a DataFrame.\n",
      "Try using .loc[row_indexer,col_indexer] = value instead\n",
      "\n",
      "See the caveats in the documentation: https://pandas.pydata.org/pandas-docs/stable/user_guide/indexing.html#returning-a-view-versus-a-copy\n",
      "  filtered_df[['set_id', 'card_id']] = filtered_df['id'].str.split('-', expand=True)\n"
     ]
    }
   ],
   "source": [
    "# Find the best cards withting the budget\n",
    "budget = int(input(\"Enter your budget(EUR):\"))\n",
    "poke_type = input(\"Enter the type: \")\n",
    "generation = input(\"Enter the generation: \")\n",
    "\n",
    "# Filter by budget and type\n",
    "\n",
    "filtered_df = df[(df[\"market_price\"] <= budget) & (df[\"single_type\"] == poke_type)]\n",
    "\n",
    "filtered_df[['set_id', 'card_id']] = filtered_df['id'].str.split('-', expand=True)\n",
    "filtered_df = filtered_df[['set_id', 'card_id','market_price', 'predicted_price','predicted_price_adjusted']]\n",
    "filtered_df = filtered_df.sort_values(by='market_price', ascending=True)"
   ]
  },
  {
   "cell_type": "code",
   "execution_count": 235,
   "id": "df113647",
   "metadata": {},
   "outputs": [],
   "source": [
    "# Find the best cards withting the budget\n",
    "budget = int(input(\"Enter your budget(EUR):\"))\n",
    "poke_type = input(\"Enter the type: \")\n",
    "generation = input(\"Enter the generation: \")\n",
    "\n",
    "# Filter by budget and type\n",
    "if generation is None:\n",
    "    filtered_df = df[(df[\"market_price\"] <= budget) & (df[\"single_type\"] == poke_type)]\n",
    "else:\n",
    "    filtered_df = df[(df[\"market_price\"] <= budget) & (df[\"single_type\"] == poke_type) & (df[\"generation\"] == generation)]\n",
    "filtered_df = filtered_df[filtered_df[\"predicted_price\"] == filtered_df[\"predicted_price\"].max()]\n",
    "filtered_df[['set_id', 'card_id']] = filtered_df['id'].str.split('-', expand=True)\n",
    "filtered_df = filtered_df[['set_id', 'card_id','market_price', 'predicted_price','predicted_price_adjusted']]\n",
    "filtered_df = filtered_df.sort_values(by='market_price', ascending=True)"
   ]
  },
  {
   "cell_type": "code",
   "execution_count": 244,
   "id": "6df9e901",
   "metadata": {},
   "outputs": [
    {
     "name": "stdout",
     "output_type": "stream",
     "text": [
      "The predicted price is 71.4EUR. The market price is 52.7 EUR.\n"
     ]
    },
    {
     "data": {
      "image/png": "[encoded data removed]",
      "text/plain": [
       "<Figure size 640x480 with 1 Axes>"
      ]
     },
     "metadata": {},
     "output_type": "display_data"
    }
   ],
   "source": [
    "#Show the best card\n",
    "url = f\"https://images.pokemontcg.io/{filtered_df['set_id'].iloc[0]}/{filtered_df['card_id'].iloc[0]}_hires.png\"\n",
    "\n",
    "response = requests.get(url)\n",
    "img = Image.open(BytesIO(response.content))\n",
    "plt.imshow(img)\n",
    "\n",
    "# witht its price\n",
    "print(f\"The predicted price is {filtered_df['predicted_price'].values[0]:.1f}EUR. The market price is {round(filtered_df['market_price'].values[0],1)} EUR.\")"
   ]
  },
  {
   "cell_type": "markdown",
   "id": "3b8d488f",
   "metadata": {},
   "source": [
    "# Additional information"
   ]
  },
  {
   "cell_type": "code",
   "execution_count": 226,
   "id": "d752a3d6",
   "metadata": {},
   "outputs": [
    {
     "name": "stdout",
     "output_type": "stream",
     "text": [
      "Psychic's undervalued rate is 64.82%.\n",
      "Water's undervalued rate is 63.12%.\n",
      "Colorless's undervalued rate is 66.79%.\n",
      "Fire's undervalued rate is 61.73%.\n",
      "Fighting's undervalued rate is 60.48%.\n",
      "Lightning's undervalued rate is 64.04%.\n",
      "Grass's undervalued rate is 64.76%.\n",
      "Metal's undervalued rate is 59.97%.\n",
      "Darkness's undervalued rate is 66.52%.\n",
      "Dragon's undervalued rate is 60.20%.\n",
      "Fairy's undervalued rate is 56.74%.\n"
     ]
    }
   ],
   "source": [
    "type = df[\"single_type\"].unique()\n",
    "\n",
    "for i in type:\n",
    "    ty = df[df[\"single_type\"]==i]\n",
    "    undervalued_rate = ty[ty[\"predicted_price_log\"] >= ty[\"market_price_log\"]].shape[0] / ty.shape[0]\n",
    "    print(f\"{i}'s undervalued rate is {undervalued_rate:.2%}.\")"
   ]
  }
 ],
 "metadata": {
  "kernelspec": {
   "display_name": "Pokemon",
   "language": "python",
   "name": "python3"
  },
  "language_info": {
   "codemirror_mode": {
    "name": "ipython",
    "version": 3
   },
   "file_extension": ".py",
   "mimetype": "text/x-python",
   "name": "python",
   "nbconvert_exporter": "python",
   "pygments_lexer": "ipython3",
   "version": "3.10.6"
  }
 },
 "nbformat": 4,
 "nbformat_minor": 5
}

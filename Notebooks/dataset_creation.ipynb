{
 "cells": [
  {
   "cell_type": "markdown",
   "id": "b9da3eca",
   "metadata": {},
   "source": [
    "\n",
    "## Step 1: Setup and Imports\n"
   ]
  },
  {
   "cell_type": "code",
   "execution_count": 1,
   "id": "61f58b42",
   "metadata": {},
   "outputs": [],
   "source": [
    "%load_ext autoreload\n",
    "%autoreload 2"
   ]
  },
  {
   "cell_type": "code",
   "execution_count": null,
   "id": "3d886b3d",
   "metadata": {},
   "outputs": [],
   "source": [
    "import matplotlib.pyplot as plt\n",
    "import numpy as np\n",
    "import pandas as pd\n",
    "import csv\n",
    "import cv2\n",
    "import requests\n",
    "from PIL import Image\n",
    "from io import BytesIO\n",
    "\n",
    "from pokedex.utils_dataset import create_dataset"
   ]
  },
  {
   "cell_type": "markdown",
   "id": "73ca1411",
   "metadata": {},
   "source": [
    "\n",
    "## Image Download + Cropping\n"
   ]
  },
  {
   "cell_type": "code",
   "execution_count": null,
   "id": "d4868296",
   "metadata": {},
   "outputs": [],
   "source": [
    "s_id = 'dv1'\n",
    "p_id = '1'\n",
    "\n",
    "# Get metadata and image URL from TCG API\n",
    "url = f'https://api.pokemontcg.io/v2/cards/{s_id}-{p_id}'\n",
    "response = requests.get(url).json()\n",
    "image_url = response['data']['images']['large']\n",
    "\n",
    "# Download and open the image\n",
    "response_card = requests.get(image_url)\n",
    "if response_card.status_code == 200:\n",
    "    image = Image.open(BytesIO(response_card.content))\n",
    "else:\n",
    "    print(f\"Failed to retrieve image. HTTP Status code: {response_card.status_code}\")\n",
    "\n",
    "# Convert to grayscale\n",
    "grayImage = cv2.cvtColor(np.array(image), cv2.COLOR_BGR2GRAY)\n",
    "plt.imshow(grayImage, cmap='gray')\n",
    "\n",
    "# Crop corners (percent-based approach)\n",
    "width, height = image.size\n",
    "bottomleft = image.crop((width * 0.75, height * 0.93, width, height))\n",
    "bottomright = image.crop((0, height * 0.93, width * 0.25, height))"
   ]
  },
  {
   "cell_type": "markdown",
   "id": "043bf14f",
   "metadata": {},
   "source": [
    "\n",
    "## Dataset Assembly (Set Looping + Labeling)"
   ]
  },
  {
   "cell_type": "code",
   "execution_count": null,
   "id": "3416b1ca",
   "metadata": {},
   "outputs": [],
   "source": [
    "setinfo = np.array([\n",
    "    ['dv1', '21', 'Dragon Vault', 'right'],\n",
    "    ['swsh9', '186', 'Brilliant Stars', 'left'],\n",
    "    ['swsh45', '73', 'Shining Fates', 'left'],\n",
    "    ['swsh6', '233', 'Chilling Reign', 'left'],\n",
    "    ['swsh12pt5', '160', 'Crown Zenith', 'left'],\n",
    "    ['xy1', '146', 'XY', 'right'],\n",
    "    ['xy2', '110', 'Flashfire', 'right'],\n",
    "    ['xy3', '114', 'Furious Fists', 'right'],\n",
    "    ['g1', '117', 'Generations', 'right'],\n",
    "    ['xy4', '124', 'Phantom Forces', 'right'],\n",
    "    ['xy6', '112', 'Roaring Skies', 'right'],\n",
    "    ['xy7', '100', 'Ancient Origins', 'right'],\n",
    "    ['dp1', '130', 'Diamond & Pearl', 'right'],\n",
    "    ['dp2', '124', 'Mysterious Treasures', 'right'],\n",
    "    ['sm4', '126', 'Crimson Invasion', 'left'],\n",
    "    ['swsh10', '216', 'Astral Radiance', 'left'],\n",
    "    ['sv4', '266', 'Paradox Rift', 'left'],\n",
    "    ['sv3pt5', '207', '151', 'left'],\n",
    "    ['sv3', '230', 'Obsidian Flames', 'left'],\n",
    "    ['sv2', '279', 'Paldea Evolved', 'left']\n",
    "])\n",
    "\n",
    "dataset_df = pd.DataFrame(columns=['corner', 'position', 'set_id', 'set_name'], index=[0])\n",
    "k = 0\n",
    "\n",
    "for j in range(setinfo.shape[0]):\n",
    "    s_id = setinfo[j, 0]\n",
    "    print(f'On-going set: {s_id}')\n",
    "\n",
    "    for i in range(1, int(setinfo[j, 1]) + 1):\n",
    "        url = f'https://api.pokemontcg.io/v2/cards/{s_id}-{str(i)}'\n",
    "        response = requests.get(url).json()\n",
    "        image_url = response['data']['images']['large']\n",
    "        response_card = requests.get(image_url)\n",
    "\n",
    "        if response_card.status_code == 200:\n",
    "            image = Image.open(BytesIO(response_card.content))\n",
    "            width, height = image.size\n",
    "\n",
    "            bottomleft = image.crop((width * 0.75, height * 0.93, width, height))\n",
    "            bottomright = image.crop((0, height * 0.93, width * 0.25, height))\n",
    "\n",
    "            graybottomleft = cv2.cvtColor(np.array(bottomleft), cv2.COLOR_BGR2GRAY)\n",
    "            graybottomright = cv2.cvtColor(np.array(bottomright), cv2.COLOR_BGR2GRAY)\n",
    "\n",
    "            if setinfo[j, 3] == 'left':\n",
    "                dataset_df.loc[k] = [graybottomleft, 'left', setinfo[j, 0], setinfo[j, 2]]\n",
    "                k += 1\n",
    "                dataset_df.loc[k] = [graybottomright, 'right', 'no', 'no']\n",
    "                k += 1\n",
    "            elif setinfo[j, 3] == 'right':\n",
    "                dataset_df.loc[k] = [graybottomleft, 'left', 'no', 'no']\n",
    "                k += 1\n",
    "                dataset_df.loc[k] = [graybottomright, 'right', setinfo[j, 0], setinfo[j, 2]]\n",
    "                k += 1\n",
    "        else:\n",
    "            print(f\"Failed to retrieve image. HTTP Status code: {response_card.status_code}\")"
   ]
  }
 ],
 "metadata": {
  "kernelspec": {
   "display_name": "Python 3",
   "language": "python",
   "name": "python3"
  },
  "language_info": {
   "codemirror_mode": {
    "name": "ipython",
    "version": 3
   },
   "file_extension": ".py",
   "mimetype": "text/x-python",
   "name": "python",
   "nbconvert_exporter": "python",
   "pygments_lexer": "ipython3",
   "version": "3.12.9"
  }
 },
 "nbformat": 4,
 "nbformat_minor": 5
}
